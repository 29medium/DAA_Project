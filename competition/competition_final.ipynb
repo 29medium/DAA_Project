{
 "cells": [
  {
   "cell_type": "code",
   "execution_count": 10,
   "id": "a0ae278b",
   "metadata": {},
   "outputs": [],
   "source": [
    "#Imports\n",
    "import csv\n",
    "import pandas as pd\n",
    "import numpy as np\n",
    "from sklearn.model_selection import train_test_split, GridSearchCV\n",
    "from sklearn.linear_model import LinearRegression,LogisticRegression\n",
    "from sklearn.svm import SVC,LinearSVC\n",
    "from sklearn.tree import DecisionTreeClassifier\n",
    "from sklearn.preprocessing import LabelEncoder, MinMaxScaler\n",
    "from sklearn.metrics import accuracy_score,confusion_matrix\n",
    "%matplotlib inline\n",
    "\n",
    "#Leitura dos ficheiros\n",
    "train = pd.read_csv('datasets/training_data.csv',encoding='cp1252')\n",
    "test = pd.read_csv('datasets/test_data.csv',encoding='cp1252')\n",
    "\n",
    "#Funções auxiliares\n",
    "ordem = {'None':0, 'Low':1, 'Medium':2, 'High':3, 'Very_High':4}\n",
    "\n",
    "def round_pred(pred,predictions):\n",
    "    for n in pred:\n",
    "        n = int(round(n))\n",
    "        if n == 0: predictions.append('None')\n",
    "        elif n == 1: predictions.append('Low')\n",
    "        elif n == 2: predictions.append('Medium')\n",
    "        elif n == 3: predictions.append('High')\n",
    "        else: predictions.append('Very_High')"
   ]
  },
  {
   "cell_type": "code",
   "execution_count": 2,
   "id": "0824d3a6",
   "metadata": {},
   "outputs": [],
   "source": [
    "#Tratamento de dados\n",
    "\n",
    "#Feriados e Dias da semana\n",
    "feriados = ['2018-01-01', '2018-02-13', '2018-03-30', '2018-04-01', '2018-04-25', '2018-05-01', '2018-05-31', \n",
    "            '2018-06-10', '2018-08-15', '2018-10-05', '2018-11-01', '2018-12-01', '2018-12-08', '2018-12-25',\n",
    "            '2019-01-01', '2019-03-05', '2019-04-19', '2019-04-21', '2019-04-25', '2019-05-01', '2019-06-10', \n",
    "            '2019-06-20', '2019-08-15', '2019-10-05', '2019-11-01', '2019-12-01', '2019-12-08', '2019-12-25']\n",
    "\n",
    "for index,row in train.iterrows():\n",
    "    data = row[1].split(' ')[0]\n",
    "    dia = pd.Timestamp(data)\n",
    "    train.at[index,'Dia'] = dia.day_name()\n",
    "    if data in feriados: train.at[index,'Feriado'] = True\n",
    "    else: train.at[index,'Feriado'] = False\n",
    "        \n",
    "for index,row in test.iterrows():\n",
    "    data = row[1].split(' ')[0]\n",
    "    dia = pd.Timestamp(data)\n",
    "    test.at[index,'Dia'] = dia.day_name()\n",
    "    if data in feriados: test.at[index,'Feriado'] = True\n",
    "    else: test.at[index,'Feriado'] = False\n",
    "        \n",
    "del train['AVERAGE_PRECIPITATION']\n",
    "del test['AVERAGE_PRECIPITATION']\n",
    "del train['city_name']\n",
    "del test['city_name']\n",
    "del train['record_date']\n",
    "del test['record_date']\n",
    "\n",
    "train['AVERAGE_CLOUDINESS'].fillna(method ='pad',inplace=True)\n",
    "train['AVERAGE_CLOUDINESS'].fillna(method ='bfill',inplace=True)\n",
    "train['AVERAGE_RAIN'].fillna(method ='pad',inplace=True)\n",
    "train['AVERAGE_RAIN'].fillna(method ='bfill',inplace=True)"
   ]
  },
  {
   "cell_type": "code",
   "execution_count": 3,
   "id": "9b3d6c8b",
   "metadata": {},
   "outputs": [],
   "source": [
    "#Substituir outliers\n",
    "q = train['AVERAGE_TIME_DIFF'].quantile(0.9)\n",
    "train.loc[train.AVERAGE_TIME_DIFF > q, 'AVERAGE_TIME_DIFF'] = np.nan\n",
    "train.fillna(q,inplace=True)"
   ]
  },
  {
   "cell_type": "code",
   "execution_count": 4,
   "id": "d68d4272",
   "metadata": {},
   "outputs": [],
   "source": [
    "#Preparação para colocar nos modelos\n",
    "X = train.drop(['AVERAGE_SPEED_DIFF'],axis=1)\n",
    "Y = train['AVERAGE_SPEED_DIFF'].to_frame()\n",
    "Y_2 = train['AVERAGE_SPEED_DIFF'].map(ordem)\n",
    "X_test = test\n",
    "\n",
    "luminosity = LabelEncoder()\n",
    "cloudiness = LabelEncoder()\n",
    "rain = LabelEncoder()\n",
    "feriado = LabelEncoder()\n",
    "day = LabelEncoder()\n",
    "luminosity_t = LabelEncoder()\n",
    "cloudiness_t = LabelEncoder()\n",
    "rain_t = LabelEncoder()\n",
    "feriado_t = LabelEncoder()\n",
    "day_t = LabelEncoder()\n",
    "\n",
    "X['LUMINOSITY_n'] = luminosity.fit_transform(X['LUMINOSITY'])\n",
    "X['AVERAGE_CLOUDINESS_n'] = cloudiness.fit_transform(X['AVERAGE_CLOUDINESS'])\n",
    "X['AVERAGE_RAIN_n'] = rain.fit_transform(X['AVERAGE_RAIN'])\n",
    "X['Feriado_n'] = feriado.fit_transform(X['Feriado'])\n",
    "X['Dia_n'] = day.fit_transform(X['Dia'])\n",
    "\n",
    "X_test['LUMINOSITY_n'] = luminosity_t.fit_transform(X_test['LUMINOSITY'])\n",
    "X_test['AVERAGE_CLOUDINESS_n'] = cloudiness_t.fit_transform(X_test['AVERAGE_CLOUDINESS'])\n",
    "X_test['AVERAGE_RAIN_n'] = rain_t.fit_transform(X_test['AVERAGE_RAIN'])\n",
    "X_test['Feriado_n'] = feriado_t.fit_transform(X_test['Feriado'])\n",
    "X_test['Dia_n'] = day_t.fit_transform(X_test['Dia'])\n",
    "\n",
    "X = X.drop(['LUMINOSITY', 'AVERAGE_CLOUDINESS', 'AVERAGE_RAIN','Dia','Feriado'],axis=1)\n",
    "X_test = X_test.drop(['LUMINOSITY', 'AVERAGE_CLOUDINESS', 'AVERAGE_RAIN','Dia','Feriado'],axis=1)"
   ]
  },
  {
   "cell_type": "code",
   "execution_count": 6,
   "id": "46e40fbf",
   "metadata": {},
   "outputs": [
    {
     "data": {
      "text/plain": [
       "array(['None', 'Medium', 'None', ..., 'None', 'Very_High', 'Low'],\n",
       "      dtype=object)"
      ]
     },
     "execution_count": 6,
     "metadata": {},
     "output_type": "execute_result"
    }
   ],
   "source": [
    "#DecisionTreeClassifier\n",
    "dtc = DecisionTreeClassifier(random_state= 2021)\n",
    "dtc.fit(X,Y)\n",
    "predictions = dtc.predict(X_test)\n",
    "predictions"
   ]
  },
  {
   "cell_type": "code",
   "execution_count": 7,
   "id": "32209e3d",
   "metadata": {
    "collapsed": true
   },
   "outputs": [
    {
     "data": {
      "text/plain": [
       "['None',\n",
       " 'Low',\n",
       " 'None',\n",
       " 'High',\n",
       " 'Low',\n",
       " 'Medium',\n",
       " 'Low',\n",
       " 'Low',\n",
       " 'Low',\n",
       " 'Medium',\n",
       " 'None',\n",
       " 'Low',\n",
       " 'Medium',\n",
       " 'High',\n",
       " 'High',\n",
       " 'High',\n",
       " 'None',\n",
       " 'High',\n",
       " 'Low',\n",
       " 'None',\n",
       " 'None',\n",
       " 'Low',\n",
       " 'Low',\n",
       " 'None',\n",
       " 'Medium',\n",
       " 'Medium',\n",
       " 'Medium',\n",
       " 'None',\n",
       " 'None',\n",
       " 'Very_High',\n",
       " 'Low',\n",
       " 'Low',\n",
       " 'Very_High',\n",
       " 'Low',\n",
       " 'Low',\n",
       " 'Low',\n",
       " 'Low',\n",
       " 'High',\n",
       " 'Medium',\n",
       " 'None',\n",
       " 'Low',\n",
       " 'None',\n",
       " 'High',\n",
       " 'Very_High',\n",
       " 'High',\n",
       " 'Low',\n",
       " 'Low',\n",
       " 'Low',\n",
       " 'Low',\n",
       " 'Low',\n",
       " 'Low',\n",
       " 'Low',\n",
       " 'Very_High',\n",
       " 'Medium',\n",
       " 'None',\n",
       " 'Medium',\n",
       " 'High',\n",
       " 'Very_High',\n",
       " 'Very_High',\n",
       " 'None',\n",
       " 'None',\n",
       " 'Low',\n",
       " 'Low',\n",
       " 'Low',\n",
       " 'Very_High',\n",
       " 'None',\n",
       " 'Very_High',\n",
       " 'Low',\n",
       " 'Medium',\n",
       " 'Very_High',\n",
       " 'None',\n",
       " 'Low',\n",
       " 'Low',\n",
       " 'Low',\n",
       " 'Very_High',\n",
       " 'High',\n",
       " 'Low',\n",
       " 'None',\n",
       " 'Medium',\n",
       " 'Medium',\n",
       " 'Low',\n",
       " 'Low',\n",
       " 'Very_High',\n",
       " 'None',\n",
       " 'None',\n",
       " 'Low',\n",
       " 'None',\n",
       " 'Medium',\n",
       " 'None',\n",
       " 'High',\n",
       " 'Medium',\n",
       " 'None',\n",
       " 'None',\n",
       " 'High',\n",
       " 'Medium',\n",
       " 'None',\n",
       " 'Very_High',\n",
       " 'None',\n",
       " 'None',\n",
       " 'Very_High',\n",
       " 'Medium',\n",
       " 'Low',\n",
       " 'None',\n",
       " 'None',\n",
       " 'High',\n",
       " 'Low',\n",
       " 'Very_High',\n",
       " 'Medium',\n",
       " 'Low',\n",
       " 'None',\n",
       " 'Low',\n",
       " 'None',\n",
       " 'Very_High',\n",
       " 'Very_High',\n",
       " 'None',\n",
       " 'Low',\n",
       " 'Medium',\n",
       " 'None',\n",
       " 'None',\n",
       " 'Very_High',\n",
       " 'Low',\n",
       " 'None',\n",
       " 'Medium',\n",
       " 'Low',\n",
       " 'Medium',\n",
       " 'High',\n",
       " 'Low',\n",
       " 'High',\n",
       " 'Medium',\n",
       " 'None',\n",
       " 'Medium',\n",
       " 'Low',\n",
       " 'Medium',\n",
       " 'Medium',\n",
       " 'Very_High',\n",
       " 'Medium',\n",
       " 'Low',\n",
       " 'Medium',\n",
       " 'High',\n",
       " 'Low',\n",
       " 'Low',\n",
       " 'Very_High',\n",
       " 'Very_High',\n",
       " 'High',\n",
       " 'Low',\n",
       " 'Medium',\n",
       " 'High',\n",
       " 'High',\n",
       " 'High',\n",
       " 'Low',\n",
       " 'Medium',\n",
       " 'None',\n",
       " 'Low',\n",
       " 'Medium',\n",
       " 'Very_High',\n",
       " 'Low',\n",
       " 'Medium',\n",
       " 'High',\n",
       " 'Medium',\n",
       " 'Low',\n",
       " 'Medium',\n",
       " 'Very_High',\n",
       " 'None',\n",
       " 'Low',\n",
       " 'Medium',\n",
       " 'Low',\n",
       " 'High',\n",
       " 'Low',\n",
       " 'Medium',\n",
       " 'None',\n",
       " 'None',\n",
       " 'Medium',\n",
       " 'None',\n",
       " 'Low',\n",
       " 'Low',\n",
       " 'None',\n",
       " 'Low',\n",
       " 'Low',\n",
       " 'Medium',\n",
       " 'Low',\n",
       " 'Medium',\n",
       " 'High',\n",
       " 'Low',\n",
       " 'Very_High',\n",
       " 'None',\n",
       " 'Low',\n",
       " 'Medium',\n",
       " 'High',\n",
       " 'High',\n",
       " 'Low',\n",
       " 'None',\n",
       " 'Low',\n",
       " 'Very_High',\n",
       " 'Medium',\n",
       " 'None',\n",
       " 'Low',\n",
       " 'Very_High',\n",
       " 'Medium',\n",
       " 'Low',\n",
       " 'Very_High',\n",
       " 'Low',\n",
       " 'Low',\n",
       " 'Medium',\n",
       " 'Low',\n",
       " 'Low',\n",
       " 'None',\n",
       " 'Very_High',\n",
       " 'Low',\n",
       " 'Low',\n",
       " 'None',\n",
       " 'None',\n",
       " 'None',\n",
       " 'Very_High',\n",
       " 'Low',\n",
       " 'Medium',\n",
       " 'None',\n",
       " 'Low',\n",
       " 'High',\n",
       " 'Very_High',\n",
       " 'None',\n",
       " 'Low',\n",
       " 'None',\n",
       " 'Medium',\n",
       " 'Very_High',\n",
       " 'Very_High',\n",
       " 'None',\n",
       " 'Low',\n",
       " 'High',\n",
       " 'Low',\n",
       " 'Very_High',\n",
       " 'Low',\n",
       " 'Very_High',\n",
       " 'None',\n",
       " 'Low',\n",
       " 'Low',\n",
       " 'Low',\n",
       " 'None',\n",
       " 'Medium',\n",
       " 'Medium',\n",
       " 'None',\n",
       " 'Low',\n",
       " 'None',\n",
       " 'Medium',\n",
       " 'Low',\n",
       " 'Low',\n",
       " 'High',\n",
       " 'None',\n",
       " 'None',\n",
       " 'Medium',\n",
       " 'Medium',\n",
       " 'None',\n",
       " 'Low',\n",
       " 'Medium',\n",
       " 'Low',\n",
       " 'High',\n",
       " 'High',\n",
       " 'None',\n",
       " 'Low',\n",
       " 'Low',\n",
       " 'Low',\n",
       " 'Low',\n",
       " 'None',\n",
       " 'Low',\n",
       " 'Medium',\n",
       " 'Low',\n",
       " 'Low',\n",
       " 'Medium',\n",
       " 'Medium',\n",
       " 'Low',\n",
       " 'Low',\n",
       " 'Low',\n",
       " 'Low',\n",
       " 'Medium',\n",
       " 'Low',\n",
       " 'Low',\n",
       " 'Low',\n",
       " 'Medium',\n",
       " 'Very_High',\n",
       " 'None',\n",
       " 'None',\n",
       " 'High',\n",
       " 'None',\n",
       " 'None',\n",
       " 'Low',\n",
       " 'Low',\n",
       " 'Low',\n",
       " 'Medium',\n",
       " 'None',\n",
       " 'Medium',\n",
       " 'Very_High',\n",
       " 'Low',\n",
       " 'Low',\n",
       " 'Low',\n",
       " 'Very_High',\n",
       " 'None',\n",
       " 'Medium',\n",
       " 'Low',\n",
       " 'Medium',\n",
       " 'Low',\n",
       " 'None',\n",
       " 'None',\n",
       " 'None',\n",
       " 'Low',\n",
       " 'Low',\n",
       " 'Low',\n",
       " 'Medium',\n",
       " 'Low',\n",
       " 'Low',\n",
       " 'Low',\n",
       " 'Low',\n",
       " 'None',\n",
       " 'Low',\n",
       " 'None',\n",
       " 'Medium',\n",
       " 'None',\n",
       " 'Very_High',\n",
       " 'Low',\n",
       " 'Medium',\n",
       " 'High',\n",
       " 'Medium',\n",
       " 'Low',\n",
       " 'Medium',\n",
       " 'None',\n",
       " 'Medium',\n",
       " 'None',\n",
       " 'Medium',\n",
       " 'Low',\n",
       " 'Very_High',\n",
       " 'High',\n",
       " 'Low',\n",
       " 'Medium',\n",
       " 'Low',\n",
       " 'None',\n",
       " 'Low',\n",
       " 'None',\n",
       " 'Very_High',\n",
       " 'Low',\n",
       " 'None',\n",
       " 'Medium',\n",
       " 'Medium',\n",
       " 'None',\n",
       " 'Low',\n",
       " 'Low',\n",
       " 'Low',\n",
       " 'Low',\n",
       " 'High',\n",
       " 'None',\n",
       " 'None',\n",
       " 'Medium',\n",
       " 'Medium',\n",
       " 'Low',\n",
       " 'Very_High',\n",
       " 'None',\n",
       " 'Very_High',\n",
       " 'Low',\n",
       " 'Very_High',\n",
       " 'Low',\n",
       " 'Low',\n",
       " 'High',\n",
       " 'Very_High',\n",
       " 'None',\n",
       " 'Low',\n",
       " 'Low',\n",
       " 'High',\n",
       " 'Medium',\n",
       " 'Medium',\n",
       " 'Low',\n",
       " 'Medium',\n",
       " 'Low',\n",
       " 'Low',\n",
       " 'None',\n",
       " 'Medium',\n",
       " 'None',\n",
       " 'None',\n",
       " 'Low',\n",
       " 'Low',\n",
       " 'None',\n",
       " 'None',\n",
       " 'Very_High',\n",
       " 'Low',\n",
       " 'None',\n",
       " 'Low',\n",
       " 'Low',\n",
       " 'Medium',\n",
       " 'None',\n",
       " 'Low',\n",
       " 'None',\n",
       " 'Very_High',\n",
       " 'Medium',\n",
       " 'Medium',\n",
       " 'None',\n",
       " 'Medium',\n",
       " 'Very_High',\n",
       " 'None',\n",
       " 'Medium',\n",
       " 'None',\n",
       " 'Medium',\n",
       " 'None',\n",
       " 'Low',\n",
       " 'None',\n",
       " 'None',\n",
       " 'Very_High',\n",
       " 'Low',\n",
       " 'High',\n",
       " 'None',\n",
       " 'Very_High',\n",
       " 'Medium',\n",
       " 'None',\n",
       " 'Medium',\n",
       " 'None',\n",
       " 'None',\n",
       " 'Low',\n",
       " 'Medium',\n",
       " 'None',\n",
       " 'Low',\n",
       " 'Very_High',\n",
       " 'Low',\n",
       " 'None',\n",
       " 'Medium',\n",
       " 'Medium',\n",
       " 'None',\n",
       " 'None',\n",
       " 'High',\n",
       " 'Low',\n",
       " 'Low',\n",
       " 'None',\n",
       " 'Low',\n",
       " 'Low',\n",
       " 'Very_High',\n",
       " 'Medium',\n",
       " 'Low',\n",
       " 'Medium',\n",
       " 'Low',\n",
       " 'Very_High',\n",
       " 'Low',\n",
       " 'Low',\n",
       " 'None',\n",
       " 'Low',\n",
       " 'Low',\n",
       " 'Low',\n",
       " 'High',\n",
       " 'High',\n",
       " 'Very_High',\n",
       " 'Medium',\n",
       " 'Low',\n",
       " 'High',\n",
       " 'None',\n",
       " 'Low',\n",
       " 'Low',\n",
       " 'Very_High',\n",
       " 'Medium',\n",
       " 'Low',\n",
       " 'None',\n",
       " 'None',\n",
       " 'None',\n",
       " 'Low',\n",
       " 'Very_High',\n",
       " 'None',\n",
       " 'Low',\n",
       " 'Medium',\n",
       " 'Low',\n",
       " 'None',\n",
       " 'Medium',\n",
       " 'None',\n",
       " 'None',\n",
       " 'Medium',\n",
       " 'Low',\n",
       " 'Low',\n",
       " 'Medium',\n",
       " 'Medium',\n",
       " 'Medium',\n",
       " 'None',\n",
       " 'Low',\n",
       " 'Low',\n",
       " 'Very_High',\n",
       " 'Low',\n",
       " 'Low',\n",
       " 'Medium',\n",
       " 'Very_High',\n",
       " 'Very_High',\n",
       " 'Low',\n",
       " 'Medium',\n",
       " 'None',\n",
       " 'Very_High',\n",
       " 'Medium',\n",
       " 'Low',\n",
       " 'Low',\n",
       " 'Medium',\n",
       " 'None',\n",
       " 'None',\n",
       " 'Very_High',\n",
       " 'None',\n",
       " 'Medium',\n",
       " 'None',\n",
       " 'Medium',\n",
       " 'Low',\n",
       " 'None',\n",
       " 'Low',\n",
       " 'Low',\n",
       " 'Low',\n",
       " 'Low',\n",
       " 'High',\n",
       " 'Low',\n",
       " 'Low',\n",
       " 'Medium',\n",
       " 'Low',\n",
       " 'None',\n",
       " 'None',\n",
       " 'None',\n",
       " 'None',\n",
       " 'None',\n",
       " 'Low',\n",
       " 'High',\n",
       " 'Low',\n",
       " 'Low',\n",
       " 'None',\n",
       " 'Very_High',\n",
       " 'Medium',\n",
       " 'Very_High',\n",
       " 'None',\n",
       " 'Very_High',\n",
       " 'None',\n",
       " 'Low',\n",
       " 'Low',\n",
       " 'Medium',\n",
       " 'Low',\n",
       " 'None',\n",
       " 'Low',\n",
       " 'High',\n",
       " 'None',\n",
       " 'Very_High',\n",
       " 'Low',\n",
       " 'Medium',\n",
       " 'Low',\n",
       " 'Low',\n",
       " 'Low',\n",
       " 'High',\n",
       " 'Low',\n",
       " 'Medium',\n",
       " 'None',\n",
       " 'High',\n",
       " 'Very_High',\n",
       " 'None',\n",
       " 'Medium',\n",
       " 'High',\n",
       " 'None',\n",
       " 'None',\n",
       " 'None',\n",
       " 'Very_High',\n",
       " 'Low',\n",
       " 'Very_High',\n",
       " 'Medium',\n",
       " 'None',\n",
       " 'Low',\n",
       " 'High',\n",
       " 'Low',\n",
       " 'Very_High',\n",
       " 'None',\n",
       " 'Medium',\n",
       " 'Low',\n",
       " 'Low',\n",
       " 'Low',\n",
       " 'Low',\n",
       " 'None',\n",
       " 'None',\n",
       " 'Low',\n",
       " 'Low',\n",
       " 'Low',\n",
       " 'Medium',\n",
       " 'Low',\n",
       " 'Low',\n",
       " 'Very_High',\n",
       " 'Very_High',\n",
       " 'Low',\n",
       " 'Low',\n",
       " 'High',\n",
       " 'Medium',\n",
       " 'Low',\n",
       " 'Low',\n",
       " 'None',\n",
       " 'High',\n",
       " 'Low',\n",
       " 'Low',\n",
       " 'Very_High',\n",
       " 'Very_High',\n",
       " 'None',\n",
       " 'None',\n",
       " 'Medium',\n",
       " 'None',\n",
       " 'Very_High',\n",
       " 'High',\n",
       " 'None',\n",
       " 'High',\n",
       " 'None',\n",
       " 'None',\n",
       " 'None',\n",
       " 'None',\n",
       " 'Low',\n",
       " 'Low',\n",
       " 'Low',\n",
       " 'Medium',\n",
       " 'Medium',\n",
       " 'Medium',\n",
       " 'High',\n",
       " 'Low',\n",
       " 'Low',\n",
       " 'Low',\n",
       " 'Very_High',\n",
       " 'High',\n",
       " 'None',\n",
       " 'Medium',\n",
       " 'None',\n",
       " 'None',\n",
       " 'Medium',\n",
       " 'None',\n",
       " 'Low',\n",
       " 'Very_High',\n",
       " 'Very_High',\n",
       " 'Very_High',\n",
       " 'Very_High',\n",
       " 'Very_High',\n",
       " 'Low',\n",
       " 'High',\n",
       " 'Very_High',\n",
       " 'Low',\n",
       " 'Very_High',\n",
       " 'Low',\n",
       " 'Low',\n",
       " 'Medium',\n",
       " 'Medium',\n",
       " 'Low',\n",
       " 'Low',\n",
       " 'High',\n",
       " 'Very_High',\n",
       " 'Low',\n",
       " 'Low',\n",
       " 'None',\n",
       " 'Low',\n",
       " 'Very_High',\n",
       " 'Low',\n",
       " 'Low',\n",
       " 'None',\n",
       " 'Medium',\n",
       " 'Medium',\n",
       " 'Low',\n",
       " 'Very_High',\n",
       " 'Low',\n",
       " 'Low',\n",
       " 'High',\n",
       " 'Medium',\n",
       " 'Medium',\n",
       " 'High',\n",
       " 'Low',\n",
       " 'Very_High',\n",
       " 'None',\n",
       " 'None',\n",
       " 'None',\n",
       " 'Medium',\n",
       " 'Very_High',\n",
       " 'Low',\n",
       " 'None',\n",
       " 'None',\n",
       " 'Low',\n",
       " 'High',\n",
       " 'Medium',\n",
       " 'Low',\n",
       " 'Very_High',\n",
       " 'Low',\n",
       " 'High',\n",
       " 'None',\n",
       " 'None',\n",
       " 'None',\n",
       " 'Medium',\n",
       " 'High',\n",
       " 'Low',\n",
       " 'Low',\n",
       " 'Very_High',\n",
       " 'Low',\n",
       " 'High',\n",
       " 'None',\n",
       " 'None',\n",
       " 'Medium',\n",
       " 'Very_High',\n",
       " 'High',\n",
       " 'Medium',\n",
       " 'Low',\n",
       " 'Low',\n",
       " 'Low',\n",
       " 'Medium',\n",
       " 'Low',\n",
       " 'Low',\n",
       " 'None',\n",
       " 'Very_High',\n",
       " 'Medium',\n",
       " 'None',\n",
       " 'High',\n",
       " 'Very_High',\n",
       " 'Medium',\n",
       " 'Very_High',\n",
       " 'Low',\n",
       " 'None',\n",
       " 'Medium',\n",
       " 'Low',\n",
       " 'None',\n",
       " 'None',\n",
       " 'Low',\n",
       " 'None',\n",
       " 'High',\n",
       " 'None',\n",
       " 'Low',\n",
       " 'Low',\n",
       " 'Low',\n",
       " 'Low',\n",
       " 'Low',\n",
       " 'Medium',\n",
       " 'Low',\n",
       " 'High',\n",
       " 'Very_High',\n",
       " 'Medium',\n",
       " 'Medium',\n",
       " 'Low',\n",
       " 'None',\n",
       " 'Low',\n",
       " 'None',\n",
       " 'None',\n",
       " 'High',\n",
       " 'Medium',\n",
       " 'High',\n",
       " 'Low',\n",
       " 'Medium',\n",
       " 'Low',\n",
       " 'Low',\n",
       " 'Low',\n",
       " 'High',\n",
       " 'Low',\n",
       " 'Very_High',\n",
       " 'Medium',\n",
       " 'Medium',\n",
       " 'Low',\n",
       " 'Low',\n",
       " 'Medium',\n",
       " 'Low',\n",
       " 'None',\n",
       " 'Very_High',\n",
       " 'None',\n",
       " 'Low',\n",
       " 'Low',\n",
       " 'None',\n",
       " 'Very_High',\n",
       " 'Very_High',\n",
       " 'Low',\n",
       " 'None',\n",
       " 'Medium',\n",
       " 'High',\n",
       " 'Low',\n",
       " 'Low',\n",
       " 'Low',\n",
       " 'None',\n",
       " 'None',\n",
       " 'Low',\n",
       " 'None',\n",
       " 'None',\n",
       " 'Very_High',\n",
       " 'Low',\n",
       " 'Low',\n",
       " 'High',\n",
       " 'None',\n",
       " 'Low',\n",
       " 'Low',\n",
       " 'Low',\n",
       " 'Low',\n",
       " 'High',\n",
       " 'High',\n",
       " 'None',\n",
       " 'Low',\n",
       " 'Low',\n",
       " 'None',\n",
       " 'Medium',\n",
       " 'Very_High',\n",
       " 'Medium',\n",
       " 'Low',\n",
       " 'Low',\n",
       " 'High',\n",
       " 'Low',\n",
       " 'High',\n",
       " 'Very_High',\n",
       " 'Low',\n",
       " 'High',\n",
       " 'Low',\n",
       " 'Low',\n",
       " 'Low',\n",
       " 'Medium',\n",
       " 'Medium',\n",
       " 'None',\n",
       " 'Low',\n",
       " 'Low',\n",
       " 'Low',\n",
       " 'Very_High',\n",
       " 'None',\n",
       " 'High',\n",
       " 'Low',\n",
       " 'Low',\n",
       " 'Medium',\n",
       " 'Low',\n",
       " 'Medium',\n",
       " 'High',\n",
       " 'Low',\n",
       " 'Low',\n",
       " 'High',\n",
       " 'Very_High',\n",
       " 'Low',\n",
       " 'None',\n",
       " 'None',\n",
       " 'None',\n",
       " 'Low',\n",
       " 'Low',\n",
       " 'Very_High',\n",
       " 'Medium',\n",
       " 'Low',\n",
       " 'Low',\n",
       " 'None',\n",
       " 'High',\n",
       " 'Very_High',\n",
       " 'High',\n",
       " 'None',\n",
       " 'High',\n",
       " 'Low',\n",
       " 'Low',\n",
       " 'Low',\n",
       " 'Very_High',\n",
       " 'None',\n",
       " 'None',\n",
       " 'Low',\n",
       " 'None',\n",
       " 'Low',\n",
       " 'None',\n",
       " 'Medium',\n",
       " 'Low',\n",
       " 'None',\n",
       " 'Medium',\n",
       " 'Low',\n",
       " 'High',\n",
       " 'High',\n",
       " 'None',\n",
       " 'Low',\n",
       " 'Medium',\n",
       " 'Medium',\n",
       " 'None',\n",
       " 'Very_High',\n",
       " 'Low',\n",
       " 'Low',\n",
       " 'Very_High',\n",
       " 'Low',\n",
       " 'None',\n",
       " 'Medium',\n",
       " 'High',\n",
       " 'Medium',\n",
       " 'Low',\n",
       " 'Low',\n",
       " 'None',\n",
       " 'Low',\n",
       " 'Very_High',\n",
       " 'Medium',\n",
       " 'None',\n",
       " 'None',\n",
       " 'Low',\n",
       " 'High',\n",
       " 'Low',\n",
       " 'Low',\n",
       " 'Medium',\n",
       " 'Low',\n",
       " 'Low',\n",
       " 'Low',\n",
       " 'Low',\n",
       " 'Medium',\n",
       " 'Low',\n",
       " 'Medium',\n",
       " 'None',\n",
       " 'High',\n",
       " 'Low',\n",
       " 'Low',\n",
       " 'High',\n",
       " 'Low',\n",
       " 'None',\n",
       " 'Low',\n",
       " 'Medium',\n",
       " 'High',\n",
       " 'Low',\n",
       " 'None',\n",
       " 'Medium',\n",
       " 'Low',\n",
       " 'None',\n",
       " 'Very_High',\n",
       " 'Very_High',\n",
       " 'Medium',\n",
       " 'Low',\n",
       " 'None',\n",
       " 'Very_High',\n",
       " 'Very_High',\n",
       " 'Medium',\n",
       " 'None',\n",
       " 'High',\n",
       " 'Medium',\n",
       " 'High',\n",
       " 'Very_High',\n",
       " 'Low',\n",
       " 'Medium',\n",
       " 'Low',\n",
       " 'Medium',\n",
       " 'Low',\n",
       " 'Low',\n",
       " 'Low',\n",
       " 'Low',\n",
       " 'Low',\n",
       " 'Low',\n",
       " 'None',\n",
       " 'High',\n",
       " 'Low',\n",
       " 'None',\n",
       " 'Medium',\n",
       " 'None',\n",
       " 'High',\n",
       " 'None',\n",
       " 'Low',\n",
       " 'High',\n",
       " 'Medium',\n",
       " 'None',\n",
       " 'Low',\n",
       " 'Low',\n",
       " 'None',\n",
       " 'Very_High',\n",
       " 'Low',\n",
       " 'Medium',\n",
       " 'Medium',\n",
       " 'None',\n",
       " 'Low',\n",
       " 'Low',\n",
       " 'Low',\n",
       " 'Low',\n",
       " 'Low',\n",
       " 'Medium',\n",
       " 'Low',\n",
       " 'None',\n",
       " 'Low',\n",
       " 'None',\n",
       " 'Very_High',\n",
       " 'None',\n",
       " 'High',\n",
       " 'Medium',\n",
       " 'Very_High',\n",
       " 'Low',\n",
       " 'Low',\n",
       " 'High',\n",
       " 'High',\n",
       " 'None',\n",
       " 'Medium',\n",
       " 'High',\n",
       " 'Medium',\n",
       " 'Low',\n",
       " 'None',\n",
       " 'Low',\n",
       " 'None',\n",
       " 'None',\n",
       " 'Low',\n",
       " 'None',\n",
       " 'High',\n",
       " 'None',\n",
       " 'Medium',\n",
       " 'None',\n",
       " 'Low',\n",
       " 'Low',\n",
       " 'Medium',\n",
       " 'Low',\n",
       " 'Medium',\n",
       " 'Low',\n",
       " 'Very_High',\n",
       " 'None',\n",
       " 'High',\n",
       " 'Low',\n",
       " 'None',\n",
       " 'Low',\n",
       " 'Low',\n",
       " 'None',\n",
       " 'None',\n",
       " 'Very_High',\n",
       " 'Low',\n",
       " 'None',\n",
       " 'High',\n",
       " 'Low',\n",
       " 'None',\n",
       " 'None',\n",
       " 'Medium',\n",
       " 'Very_High',\n",
       " 'Low',\n",
       " 'Low',\n",
       " 'High',\n",
       " 'High',\n",
       " 'Low',\n",
       " 'None',\n",
       " 'Low',\n",
       " ...]"
      ]
     },
     "execution_count": 7,
     "metadata": {},
     "output_type": "execute_result"
    }
   ],
   "source": [
    "#Linear Regression\n",
    "lr = LinearRegression()\n",
    "lr.fit(X,Y_2)\n",
    "pred = lr.predict(X_test)\n",
    "predictions = []\n",
    "round_pred(pred,predictions)\n",
    "predictions"
   ]
  },
  {
   "cell_type": "code",
   "execution_count": 11,
   "id": "f8f0a88a",
   "metadata": {
    "collapsed": true
   },
   "outputs": [
    {
     "data": {
      "text/plain": [
       "['None',\n",
       " 'Medium',\n",
       " 'None',\n",
       " 'Medium',\n",
       " 'None',\n",
       " 'Medium',\n",
       " 'Low',\n",
       " 'Medium',\n",
       " 'None',\n",
       " 'Medium',\n",
       " 'None',\n",
       " 'None',\n",
       " 'Medium',\n",
       " 'Medium',\n",
       " 'High',\n",
       " 'High',\n",
       " 'None',\n",
       " 'High',\n",
       " 'Medium',\n",
       " 'None',\n",
       " 'None',\n",
       " 'None',\n",
       " 'Low',\n",
       " 'None',\n",
       " 'Medium',\n",
       " 'Medium',\n",
       " 'High',\n",
       " 'None',\n",
       " 'None',\n",
       " 'Very_High',\n",
       " 'None',\n",
       " 'Low',\n",
       " 'Very_High',\n",
       " 'Medium',\n",
       " 'None',\n",
       " 'None',\n",
       " 'Medium',\n",
       " 'High',\n",
       " 'Medium',\n",
       " 'None',\n",
       " 'None',\n",
       " 'None',\n",
       " 'High',\n",
       " 'Very_High',\n",
       " 'High',\n",
       " 'Medium',\n",
       " 'Low',\n",
       " 'None',\n",
       " 'Low',\n",
       " 'Low',\n",
       " 'Medium',\n",
       " 'Medium',\n",
       " 'High',\n",
       " 'Medium',\n",
       " 'None',\n",
       " 'High',\n",
       " 'High',\n",
       " 'High',\n",
       " 'Very_High',\n",
       " 'None',\n",
       " 'None',\n",
       " 'Low',\n",
       " 'None',\n",
       " 'Medium',\n",
       " 'Very_High',\n",
       " 'None',\n",
       " 'Very_High',\n",
       " 'Low',\n",
       " 'High',\n",
       " 'Very_High',\n",
       " 'None',\n",
       " 'Medium',\n",
       " 'Medium',\n",
       " 'Medium',\n",
       " 'Very_High',\n",
       " 'High',\n",
       " 'Low',\n",
       " 'None',\n",
       " 'Medium',\n",
       " 'Medium',\n",
       " 'Low',\n",
       " 'Medium',\n",
       " 'Very_High',\n",
       " 'None',\n",
       " 'None',\n",
       " 'Low',\n",
       " 'None',\n",
       " 'Medium',\n",
       " 'None',\n",
       " 'High',\n",
       " 'Medium',\n",
       " 'None',\n",
       " 'None',\n",
       " 'High',\n",
       " 'Medium',\n",
       " 'None',\n",
       " 'Very_High',\n",
       " 'None',\n",
       " 'None',\n",
       " 'Very_High',\n",
       " 'Medium',\n",
       " 'Low',\n",
       " 'None',\n",
       " 'None',\n",
       " 'High',\n",
       " 'Medium',\n",
       " 'Very_High',\n",
       " 'High',\n",
       " 'Low',\n",
       " 'None',\n",
       " 'Low',\n",
       " 'None',\n",
       " 'High',\n",
       " 'High',\n",
       " 'None',\n",
       " 'Low',\n",
       " 'Medium',\n",
       " 'None',\n",
       " 'None',\n",
       " 'Very_High',\n",
       " 'None',\n",
       " 'None',\n",
       " 'Medium',\n",
       " 'Low',\n",
       " 'Medium',\n",
       " 'High',\n",
       " 'Low',\n",
       " 'High',\n",
       " 'Medium',\n",
       " 'None',\n",
       " 'Medium',\n",
       " 'Low',\n",
       " 'Medium',\n",
       " 'Medium',\n",
       " 'Very_High',\n",
       " 'Medium',\n",
       " 'Low',\n",
       " 'Medium',\n",
       " 'High',\n",
       " 'Low',\n",
       " 'None',\n",
       " 'High',\n",
       " 'Very_High',\n",
       " 'High',\n",
       " 'Low',\n",
       " 'Medium',\n",
       " 'High',\n",
       " 'High',\n",
       " 'High',\n",
       " 'None',\n",
       " 'High',\n",
       " 'None',\n",
       " 'Low',\n",
       " 'Medium',\n",
       " 'Very_High',\n",
       " 'Low',\n",
       " 'Medium',\n",
       " 'High',\n",
       " 'Medium',\n",
       " 'Low',\n",
       " 'High',\n",
       " 'High',\n",
       " 'None',\n",
       " 'Low',\n",
       " 'Medium',\n",
       " 'Low',\n",
       " 'High',\n",
       " 'Low',\n",
       " 'Medium',\n",
       " 'None',\n",
       " 'None',\n",
       " 'Medium',\n",
       " 'None',\n",
       " 'Low',\n",
       " 'Medium',\n",
       " 'None',\n",
       " 'Low',\n",
       " 'Medium',\n",
       " 'Medium',\n",
       " 'None',\n",
       " 'High',\n",
       " 'High',\n",
       " 'Low',\n",
       " 'Very_High',\n",
       " 'None',\n",
       " 'Low',\n",
       " 'Medium',\n",
       " 'High',\n",
       " 'High',\n",
       " 'None',\n",
       " 'None',\n",
       " 'Low',\n",
       " 'Very_High',\n",
       " 'Medium',\n",
       " 'None',\n",
       " 'Low',\n",
       " 'High',\n",
       " 'Medium',\n",
       " 'Medium',\n",
       " 'Very_High',\n",
       " 'Low',\n",
       " 'None',\n",
       " 'Medium',\n",
       " 'Low',\n",
       " 'Medium',\n",
       " 'None',\n",
       " 'High',\n",
       " 'Low',\n",
       " 'Medium',\n",
       " 'None',\n",
       " 'None',\n",
       " 'None',\n",
       " 'Very_High',\n",
       " 'Low',\n",
       " 'Medium',\n",
       " 'None',\n",
       " 'Low',\n",
       " 'High',\n",
       " 'Very_High',\n",
       " 'None',\n",
       " 'Low',\n",
       " 'None',\n",
       " 'Medium',\n",
       " 'Very_High',\n",
       " 'High',\n",
       " 'None',\n",
       " 'None',\n",
       " 'High',\n",
       " 'Medium',\n",
       " 'Very_High',\n",
       " 'None',\n",
       " 'Very_High',\n",
       " 'None',\n",
       " 'Medium',\n",
       " 'None',\n",
       " 'Low',\n",
       " 'None',\n",
       " 'High',\n",
       " 'High',\n",
       " 'None',\n",
       " 'Low',\n",
       " 'None',\n",
       " 'Medium',\n",
       " 'Low',\n",
       " 'Low',\n",
       " 'High',\n",
       " 'None',\n",
       " 'None',\n",
       " 'Medium',\n",
       " 'Medium',\n",
       " 'None',\n",
       " 'Medium',\n",
       " 'Medium',\n",
       " 'Medium',\n",
       " 'High',\n",
       " 'High',\n",
       " 'None',\n",
       " 'None',\n",
       " 'Low',\n",
       " 'None',\n",
       " 'Low',\n",
       " 'None',\n",
       " 'None',\n",
       " 'Medium',\n",
       " 'None',\n",
       " 'Medium',\n",
       " 'High',\n",
       " 'Medium',\n",
       " 'Low',\n",
       " 'Low',\n",
       " 'Medium',\n",
       " 'None',\n",
       " 'Medium',\n",
       " 'Low',\n",
       " 'Low',\n",
       " 'Low',\n",
       " 'Medium',\n",
       " 'Very_High',\n",
       " 'None',\n",
       " 'None',\n",
       " 'High',\n",
       " 'None',\n",
       " 'None',\n",
       " 'Low',\n",
       " 'None',\n",
       " 'Medium',\n",
       " 'Medium',\n",
       " 'None',\n",
       " 'Medium',\n",
       " 'Very_High',\n",
       " 'None',\n",
       " 'Low',\n",
       " 'Low',\n",
       " 'High',\n",
       " 'None',\n",
       " 'Medium',\n",
       " 'Low',\n",
       " 'Medium',\n",
       " 'None',\n",
       " 'None',\n",
       " 'None',\n",
       " 'None',\n",
       " 'None',\n",
       " 'Low',\n",
       " 'None',\n",
       " 'Medium',\n",
       " 'Medium',\n",
       " 'None',\n",
       " 'None',\n",
       " 'Low',\n",
       " 'None',\n",
       " 'Low',\n",
       " 'None',\n",
       " 'Medium',\n",
       " 'None',\n",
       " 'Very_High',\n",
       " 'None',\n",
       " 'Medium',\n",
       " 'Very_High',\n",
       " 'Medium',\n",
       " 'Low',\n",
       " 'Medium',\n",
       " 'Low',\n",
       " 'Medium',\n",
       " 'None',\n",
       " 'Medium',\n",
       " 'None',\n",
       " 'High',\n",
       " 'High',\n",
       " 'Low',\n",
       " 'Medium',\n",
       " 'None',\n",
       " 'None',\n",
       " 'Low',\n",
       " 'None',\n",
       " 'Very_High',\n",
       " 'None',\n",
       " 'None',\n",
       " 'High',\n",
       " 'Medium',\n",
       " 'None',\n",
       " 'Low',\n",
       " 'Low',\n",
       " 'Low',\n",
       " 'None',\n",
       " 'High',\n",
       " 'None',\n",
       " 'None',\n",
       " 'Medium',\n",
       " 'Medium',\n",
       " 'Low',\n",
       " 'Very_High',\n",
       " 'None',\n",
       " 'Very_High',\n",
       " 'Medium',\n",
       " 'Very_High',\n",
       " 'Low',\n",
       " 'None',\n",
       " 'High',\n",
       " 'Very_High',\n",
       " 'None',\n",
       " 'None',\n",
       " 'Medium',\n",
       " 'Very_High',\n",
       " 'Medium',\n",
       " 'Medium',\n",
       " 'Low',\n",
       " 'Medium',\n",
       " 'None',\n",
       " 'None',\n",
       " 'None',\n",
       " 'High',\n",
       " 'None',\n",
       " 'None',\n",
       " 'Low',\n",
       " 'Low',\n",
       " 'None',\n",
       " 'None',\n",
       " 'Very_High',\n",
       " 'None',\n",
       " 'None',\n",
       " 'None',\n",
       " 'Low',\n",
       " 'Medium',\n",
       " 'None',\n",
       " 'Low',\n",
       " 'None',\n",
       " 'Very_High',\n",
       " 'Medium',\n",
       " 'Medium',\n",
       " 'None',\n",
       " 'Medium',\n",
       " 'High',\n",
       " 'None',\n",
       " 'Medium',\n",
       " 'None',\n",
       " 'Medium',\n",
       " 'None',\n",
       " 'Low',\n",
       " 'None',\n",
       " 'None',\n",
       " 'Very_High',\n",
       " 'Low',\n",
       " 'Very_High',\n",
       " 'None',\n",
       " 'Very_High',\n",
       " 'Medium',\n",
       " 'Low',\n",
       " 'Medium',\n",
       " 'None',\n",
       " 'None',\n",
       " 'Low',\n",
       " 'Medium',\n",
       " 'None',\n",
       " 'Low',\n",
       " 'High',\n",
       " 'Low',\n",
       " 'None',\n",
       " 'Medium',\n",
       " 'Medium',\n",
       " 'None',\n",
       " 'None',\n",
       " 'High',\n",
       " 'Low',\n",
       " 'Low',\n",
       " 'None',\n",
       " 'Low',\n",
       " 'Low',\n",
       " 'Very_High',\n",
       " 'Medium',\n",
       " 'Medium',\n",
       " 'Medium',\n",
       " 'Low',\n",
       " 'Very_High',\n",
       " 'Medium',\n",
       " 'Low',\n",
       " 'None',\n",
       " 'Low',\n",
       " 'Medium',\n",
       " 'Low',\n",
       " 'High',\n",
       " 'High',\n",
       " 'Very_High',\n",
       " 'High',\n",
       " 'Low',\n",
       " 'High',\n",
       " 'Low',\n",
       " 'Medium',\n",
       " 'Low',\n",
       " 'Very_High',\n",
       " 'Medium',\n",
       " 'Low',\n",
       " 'None',\n",
       " 'None',\n",
       " 'None',\n",
       " 'Medium',\n",
       " 'High',\n",
       " 'None',\n",
       " 'Low',\n",
       " 'Medium',\n",
       " 'None',\n",
       " 'None',\n",
       " 'Medium',\n",
       " 'None',\n",
       " 'None',\n",
       " 'Medium',\n",
       " 'Medium',\n",
       " 'Low',\n",
       " 'Medium',\n",
       " 'Medium',\n",
       " 'High',\n",
       " 'None',\n",
       " 'None',\n",
       " 'Low',\n",
       " 'Very_High',\n",
       " 'None',\n",
       " 'Low',\n",
       " 'Medium',\n",
       " 'Very_High',\n",
       " 'Very_High',\n",
       " 'Low',\n",
       " 'Medium',\n",
       " 'None',\n",
       " 'Very_High',\n",
       " 'Medium',\n",
       " 'Low',\n",
       " 'Medium',\n",
       " 'Medium',\n",
       " 'None',\n",
       " 'None',\n",
       " 'Very_High',\n",
       " 'None',\n",
       " 'High',\n",
       " 'None',\n",
       " 'High',\n",
       " 'Low',\n",
       " 'None',\n",
       " 'Medium',\n",
       " 'Low',\n",
       " 'Low',\n",
       " 'Low',\n",
       " 'High',\n",
       " 'None',\n",
       " 'None',\n",
       " 'Medium',\n",
       " 'Medium',\n",
       " 'None',\n",
       " 'None',\n",
       " 'None',\n",
       " 'None',\n",
       " 'None',\n",
       " 'None',\n",
       " 'High',\n",
       " 'Low',\n",
       " 'Low',\n",
       " 'None',\n",
       " 'Very_High',\n",
       " 'Medium',\n",
       " 'Very_High',\n",
       " 'None',\n",
       " 'Very_High',\n",
       " 'None',\n",
       " 'None',\n",
       " 'Medium',\n",
       " 'Medium',\n",
       " 'Low',\n",
       " 'None',\n",
       " 'None',\n",
       " 'High',\n",
       " 'None',\n",
       " 'Very_High',\n",
       " 'Low',\n",
       " 'Medium',\n",
       " 'Low',\n",
       " 'Medium',\n",
       " 'Low',\n",
       " 'High',\n",
       " 'Low',\n",
       " 'Medium',\n",
       " 'None',\n",
       " 'High',\n",
       " 'Very_High',\n",
       " 'None',\n",
       " 'Medium',\n",
       " 'Very_High',\n",
       " 'None',\n",
       " 'None',\n",
       " 'None',\n",
       " 'Very_High',\n",
       " 'None',\n",
       " 'Very_High',\n",
       " 'Medium',\n",
       " 'None',\n",
       " 'None',\n",
       " 'High',\n",
       " 'Low',\n",
       " 'Very_High',\n",
       " 'None',\n",
       " 'Medium',\n",
       " 'Low',\n",
       " 'Low',\n",
       " 'None',\n",
       " 'None',\n",
       " 'None',\n",
       " 'None',\n",
       " 'None',\n",
       " 'Medium',\n",
       " 'Low',\n",
       " 'Medium',\n",
       " 'Low',\n",
       " 'Low',\n",
       " 'Very_High',\n",
       " 'Very_High',\n",
       " 'None',\n",
       " 'Low',\n",
       " 'High',\n",
       " 'High',\n",
       " 'Low',\n",
       " 'Low',\n",
       " 'None',\n",
       " 'High',\n",
       " 'Low',\n",
       " 'None',\n",
       " 'Very_High',\n",
       " 'Very_High',\n",
       " 'None',\n",
       " 'None',\n",
       " 'Medium',\n",
       " 'None',\n",
       " 'Very_High',\n",
       " 'Medium',\n",
       " 'None',\n",
       " 'High',\n",
       " 'None',\n",
       " 'None',\n",
       " 'None',\n",
       " 'None',\n",
       " 'Medium',\n",
       " 'None',\n",
       " 'Low',\n",
       " 'Medium',\n",
       " 'Medium',\n",
       " 'Medium',\n",
       " 'High',\n",
       " 'Low',\n",
       " 'Low',\n",
       " 'None',\n",
       " 'High',\n",
       " 'High',\n",
       " 'None',\n",
       " 'Medium',\n",
       " 'None',\n",
       " 'None',\n",
       " 'Medium',\n",
       " 'None',\n",
       " 'None',\n",
       " 'Very_High',\n",
       " 'Very_High',\n",
       " 'High',\n",
       " 'Very_High',\n",
       " 'Very_High',\n",
       " 'Low',\n",
       " 'High',\n",
       " 'Very_High',\n",
       " 'Medium',\n",
       " 'Very_High',\n",
       " 'Low',\n",
       " 'None',\n",
       " 'Medium',\n",
       " 'Medium',\n",
       " 'Low',\n",
       " 'Low',\n",
       " 'High',\n",
       " 'Very_High',\n",
       " 'Low',\n",
       " 'Low',\n",
       " 'None',\n",
       " 'None',\n",
       " 'Very_High',\n",
       " 'None',\n",
       " 'None',\n",
       " 'None',\n",
       " 'Medium',\n",
       " 'Medium',\n",
       " 'Medium',\n",
       " 'High',\n",
       " 'None',\n",
       " 'None',\n",
       " 'Medium',\n",
       " 'Medium',\n",
       " 'Medium',\n",
       " 'High',\n",
       " 'Medium',\n",
       " 'High',\n",
       " 'None',\n",
       " 'None',\n",
       " 'None',\n",
       " 'Medium',\n",
       " 'Very_High',\n",
       " 'None',\n",
       " 'None',\n",
       " 'None',\n",
       " 'Low',\n",
       " 'High',\n",
       " 'High',\n",
       " 'Low',\n",
       " 'Very_High',\n",
       " 'Low',\n",
       " 'High',\n",
       " 'None',\n",
       " 'None',\n",
       " 'None',\n",
       " 'Medium',\n",
       " 'High',\n",
       " 'Low',\n",
       " 'Low',\n",
       " 'Very_High',\n",
       " 'Low',\n",
       " 'High',\n",
       " 'None',\n",
       " 'None',\n",
       " 'Medium',\n",
       " 'Very_High',\n",
       " 'High',\n",
       " 'Medium',\n",
       " 'Low',\n",
       " 'Low',\n",
       " 'Low',\n",
       " 'Medium',\n",
       " 'Medium',\n",
       " 'Low',\n",
       " 'None',\n",
       " 'Very_High',\n",
       " 'Medium',\n",
       " 'None',\n",
       " 'High',\n",
       " 'Very_High',\n",
       " 'Medium',\n",
       " 'Very_High',\n",
       " 'Medium',\n",
       " 'None',\n",
       " 'Medium',\n",
       " 'Medium',\n",
       " 'None',\n",
       " 'None',\n",
       " 'Low',\n",
       " 'None',\n",
       " 'High',\n",
       " 'None',\n",
       " 'Low',\n",
       " 'Low',\n",
       " 'None',\n",
       " 'Low',\n",
       " 'None',\n",
       " 'High',\n",
       " 'Medium',\n",
       " 'High',\n",
       " 'Very_High',\n",
       " 'High',\n",
       " 'Medium',\n",
       " 'Low',\n",
       " 'None',\n",
       " 'Medium',\n",
       " 'None',\n",
       " 'None',\n",
       " 'High',\n",
       " 'Medium',\n",
       " 'High',\n",
       " 'Low',\n",
       " 'Medium',\n",
       " 'Low',\n",
       " 'Low',\n",
       " 'Medium',\n",
       " 'High',\n",
       " 'Medium',\n",
       " 'Very_High',\n",
       " 'Medium',\n",
       " 'High',\n",
       " 'Low',\n",
       " 'Medium',\n",
       " 'Medium',\n",
       " 'Low',\n",
       " 'None',\n",
       " 'High',\n",
       " 'None',\n",
       " 'Low',\n",
       " 'Low',\n",
       " 'Low',\n",
       " 'Very_High',\n",
       " 'Very_High',\n",
       " 'Low',\n",
       " 'None',\n",
       " 'Medium',\n",
       " 'Very_High',\n",
       " 'Low',\n",
       " 'Low',\n",
       " 'Low',\n",
       " 'None',\n",
       " 'None',\n",
       " 'None',\n",
       " 'None',\n",
       " 'None',\n",
       " 'Very_High',\n",
       " 'Low',\n",
       " 'None',\n",
       " 'High',\n",
       " 'None',\n",
       " 'Low',\n",
       " 'Low',\n",
       " 'Medium',\n",
       " 'Low',\n",
       " 'High',\n",
       " 'High',\n",
       " 'None',\n",
       " 'Medium',\n",
       " 'Low',\n",
       " 'None',\n",
       " 'Medium',\n",
       " 'High',\n",
       " 'Medium',\n",
       " 'None',\n",
       " 'Low',\n",
       " 'High',\n",
       " 'Medium',\n",
       " 'High',\n",
       " 'Very_High',\n",
       " 'Low',\n",
       " 'High',\n",
       " 'Medium',\n",
       " 'Medium',\n",
       " 'Medium',\n",
       " 'Medium',\n",
       " 'Medium',\n",
       " 'None',\n",
       " 'Low',\n",
       " 'Medium',\n",
       " 'Low',\n",
       " 'Very_High',\n",
       " 'None',\n",
       " 'High',\n",
       " 'Low',\n",
       " 'Low',\n",
       " 'Medium',\n",
       " 'Low',\n",
       " 'Medium',\n",
       " 'High',\n",
       " 'Low',\n",
       " 'Medium',\n",
       " 'High',\n",
       " 'Very_High',\n",
       " 'None',\n",
       " 'None',\n",
       " 'None',\n",
       " 'None',\n",
       " 'Low',\n",
       " 'Low',\n",
       " 'Very_High',\n",
       " 'Medium',\n",
       " 'Medium',\n",
       " 'Low',\n",
       " 'None',\n",
       " 'High',\n",
       " 'Very_High',\n",
       " 'High',\n",
       " 'None',\n",
       " 'High',\n",
       " 'None',\n",
       " 'Low',\n",
       " 'Low',\n",
       " 'Very_High',\n",
       " 'None',\n",
       " 'None',\n",
       " 'Low',\n",
       " 'None',\n",
       " 'Low',\n",
       " 'None',\n",
       " 'Medium',\n",
       " 'None',\n",
       " 'None',\n",
       " 'Medium',\n",
       " 'None',\n",
       " 'High',\n",
       " 'High',\n",
       " 'None',\n",
       " 'Low',\n",
       " 'Medium',\n",
       " 'High',\n",
       " 'None',\n",
       " 'Very_High',\n",
       " 'Low',\n",
       " 'Medium',\n",
       " 'Very_High',\n",
       " 'Low',\n",
       " 'None',\n",
       " 'High',\n",
       " 'High',\n",
       " 'Medium',\n",
       " 'Low',\n",
       " 'Medium',\n",
       " 'None',\n",
       " 'Low',\n",
       " 'Very_High',\n",
       " 'Medium',\n",
       " 'None',\n",
       " 'None',\n",
       " 'None',\n",
       " 'High',\n",
       " 'Low',\n",
       " 'None',\n",
       " 'Medium',\n",
       " 'Low',\n",
       " 'Medium',\n",
       " 'Medium',\n",
       " 'Medium',\n",
       " 'Medium',\n",
       " 'Low',\n",
       " 'Medium',\n",
       " 'None',\n",
       " 'High',\n",
       " 'Low',\n",
       " 'Medium',\n",
       " 'High',\n",
       " 'Low',\n",
       " 'None',\n",
       " 'Medium',\n",
       " 'Medium',\n",
       " 'High',\n",
       " 'Low',\n",
       " 'None',\n",
       " 'Medium',\n",
       " 'Medium',\n",
       " 'None',\n",
       " 'Very_High',\n",
       " 'Very_High',\n",
       " 'Medium',\n",
       " 'Low',\n",
       " 'Low',\n",
       " 'High',\n",
       " 'High',\n",
       " 'Medium',\n",
       " 'None',\n",
       " 'Medium',\n",
       " 'Medium',\n",
       " 'High',\n",
       " 'Very_High',\n",
       " 'Medium',\n",
       " 'Medium',\n",
       " 'Low',\n",
       " 'Medium',\n",
       " 'Medium',\n",
       " 'Low',\n",
       " 'Low',\n",
       " 'None',\n",
       " 'Low',\n",
       " 'Medium',\n",
       " 'None',\n",
       " 'High',\n",
       " 'Low',\n",
       " 'None',\n",
       " 'Medium',\n",
       " 'None',\n",
       " 'High',\n",
       " 'None',\n",
       " 'None',\n",
       " 'High',\n",
       " 'Medium',\n",
       " 'None',\n",
       " 'Low',\n",
       " 'Low',\n",
       " 'None',\n",
       " 'Very_High',\n",
       " 'Low',\n",
       " 'Medium',\n",
       " 'Medium',\n",
       " 'None',\n",
       " 'Medium',\n",
       " 'Low',\n",
       " 'None',\n",
       " 'Low',\n",
       " 'Low',\n",
       " 'Medium',\n",
       " 'Medium',\n",
       " 'None',\n",
       " 'Low',\n",
       " 'None',\n",
       " 'Very_High',\n",
       " 'None',\n",
       " 'High',\n",
       " 'Medium',\n",
       " 'Very_High',\n",
       " 'Low',\n",
       " 'None',\n",
       " 'High',\n",
       " 'High',\n",
       " 'None',\n",
       " 'Medium',\n",
       " 'High',\n",
       " 'Medium',\n",
       " 'None',\n",
       " 'None',\n",
       " 'None',\n",
       " 'None',\n",
       " 'None',\n",
       " 'Low',\n",
       " 'Low',\n",
       " 'High',\n",
       " 'None',\n",
       " 'Medium',\n",
       " 'None',\n",
       " 'None',\n",
       " 'Low',\n",
       " 'Medium',\n",
       " 'Low',\n",
       " 'Medium',\n",
       " 'Low',\n",
       " 'Very_High',\n",
       " 'None',\n",
       " 'High',\n",
       " 'Medium',\n",
       " 'None',\n",
       " 'Low',\n",
       " 'Low',\n",
       " 'None',\n",
       " 'None',\n",
       " 'Very_High',\n",
       " 'None',\n",
       " 'None',\n",
       " 'High',\n",
       " 'None',\n",
       " 'None',\n",
       " 'None',\n",
       " 'Medium',\n",
       " 'Very_High',\n",
       " 'Low',\n",
       " 'Low',\n",
       " 'High',\n",
       " 'Very_High',\n",
       " 'None',\n",
       " 'None',\n",
       " 'None',\n",
       " ...]"
      ]
     },
     "execution_count": 11,
     "metadata": {},
     "output_type": "execute_result"
    }
   ],
   "source": [
    "#Logistic Regression\n",
    "logr = LogisticRegression(max_iter=10000)\n",
    "logr.fit(X,Y_2)\n",
    "pred = logr.predict(X_test)\n",
    "predictions = []\n",
    "round_pred(pred,predictions)\n",
    "predictions"
   ]
  },
  {
   "cell_type": "code",
   "execution_count": 16,
   "id": "d17aad28",
   "metadata": {},
   "outputs": [
    {
     "name": "stderr",
     "output_type": "stream",
     "text": [
      "C:\\Users\\tiago\\anaconda3\\envs\\DAA\\lib\\site-packages\\sklearn\\utils\\validation.py:985: DataConversionWarning: A column-vector y was passed when a 1d array was expected. Please change the shape of y to (n_samples, ), for example using ravel().\n",
      "  y = column_or_1d(y, warn=True)\n"
     ]
    },
    {
     "data": {
      "text/plain": [
       "array(['None', 'Low', 'None', ..., 'None', 'Very_High', 'Medium'],\n",
       "      dtype=object)"
      ]
     },
     "execution_count": 16,
     "metadata": {},
     "output_type": "execute_result"
    }
   ],
   "source": [
    "#LinearSVC\n",
    "model = LinearSVC(dual=False)\n",
    "model.fit(X,Y)\n",
    "\n",
    "predictions = model.predict(X_test)\n",
    "predictions"
   ]
  },
  {
   "cell_type": "code",
   "execution_count": 14,
   "id": "2934a5e6",
   "metadata": {},
   "outputs": [
    {
     "name": "stdout",
     "output_type": "stream",
     "text": [
      "Fitting 5 folds for each of 25 candidates, totalling 125 fits\n"
     ]
    },
    {
     "name": "stderr",
     "output_type": "stream",
     "text": [
      "C:\\Users\\tiago\\anaconda3\\envs\\DAA\\lib\\site-packages\\sklearn\\utils\\validation.py:985: DataConversionWarning: A column-vector y was passed when a 1d array was expected. Please change the shape of y to (n_samples, ), for example using ravel().\n",
      "  y = column_or_1d(y, warn=True)\n"
     ]
    },
    {
     "name": "stdout",
     "output_type": "stream",
     "text": [
      "[CV 1/5] END ........C=0.1, gamma=1, kernel=rbf;, score=0.323 total time=   7.2s\n"
     ]
    },
    {
     "name": "stderr",
     "output_type": "stream",
     "text": [
      "C:\\Users\\tiago\\anaconda3\\envs\\DAA\\lib\\site-packages\\sklearn\\utils\\validation.py:985: DataConversionWarning: A column-vector y was passed when a 1d array was expected. Please change the shape of y to (n_samples, ), for example using ravel().\n",
      "  y = column_or_1d(y, warn=True)\n"
     ]
    },
    {
     "name": "stdout",
     "output_type": "stream",
     "text": [
      "[CV 2/5] END ........C=0.1, gamma=1, kernel=rbf;, score=0.323 total time=   5.8s\n"
     ]
    },
    {
     "name": "stderr",
     "output_type": "stream",
     "text": [
      "C:\\Users\\tiago\\anaconda3\\envs\\DAA\\lib\\site-packages\\sklearn\\utils\\validation.py:985: DataConversionWarning: A column-vector y was passed when a 1d array was expected. Please change the shape of y to (n_samples, ), for example using ravel().\n",
      "  y = column_or_1d(y, warn=True)\n"
     ]
    },
    {
     "name": "stdout",
     "output_type": "stream",
     "text": [
      "[CV 3/5] END ........C=0.1, gamma=1, kernel=rbf;, score=0.323 total time=   5.4s\n"
     ]
    },
    {
     "name": "stderr",
     "output_type": "stream",
     "text": [
      "C:\\Users\\tiago\\anaconda3\\envs\\DAA\\lib\\site-packages\\sklearn\\utils\\validation.py:985: DataConversionWarning: A column-vector y was passed when a 1d array was expected. Please change the shape of y to (n_samples, ), for example using ravel().\n",
      "  y = column_or_1d(y, warn=True)\n"
     ]
    },
    {
     "name": "stdout",
     "output_type": "stream",
     "text": [
      "[CV 4/5] END ........C=0.1, gamma=1, kernel=rbf;, score=0.323 total time=   6.1s\n"
     ]
    },
    {
     "name": "stderr",
     "output_type": "stream",
     "text": [
      "C:\\Users\\tiago\\anaconda3\\envs\\DAA\\lib\\site-packages\\sklearn\\utils\\validation.py:985: DataConversionWarning: A column-vector y was passed when a 1d array was expected. Please change the shape of y to (n_samples, ), for example using ravel().\n",
      "  y = column_or_1d(y, warn=True)\n"
     ]
    },
    {
     "name": "stdout",
     "output_type": "stream",
     "text": [
      "[CV 5/5] END ........C=0.1, gamma=1, kernel=rbf;, score=0.323 total time=   4.9s\n"
     ]
    },
    {
     "name": "stderr",
     "output_type": "stream",
     "text": [
      "C:\\Users\\tiago\\anaconda3\\envs\\DAA\\lib\\site-packages\\sklearn\\utils\\validation.py:985: DataConversionWarning: A column-vector y was passed when a 1d array was expected. Please change the shape of y to (n_samples, ), for example using ravel().\n",
      "  y = column_or_1d(y, warn=True)\n"
     ]
    },
    {
     "name": "stdout",
     "output_type": "stream",
     "text": [
      "[CV 1/5] END ......C=0.1, gamma=0.1, kernel=rbf;, score=0.323 total time=   3.4s\n"
     ]
    },
    {
     "name": "stderr",
     "output_type": "stream",
     "text": [
      "C:\\Users\\tiago\\anaconda3\\envs\\DAA\\lib\\site-packages\\sklearn\\utils\\validation.py:985: DataConversionWarning: A column-vector y was passed when a 1d array was expected. Please change the shape of y to (n_samples, ), for example using ravel().\n",
      "  y = column_or_1d(y, warn=True)\n"
     ]
    },
    {
     "name": "stdout",
     "output_type": "stream",
     "text": [
      "[CV 2/5] END ......C=0.1, gamma=0.1, kernel=rbf;, score=0.323 total time=   3.4s\n"
     ]
    },
    {
     "name": "stderr",
     "output_type": "stream",
     "text": [
      "C:\\Users\\tiago\\anaconda3\\envs\\DAA\\lib\\site-packages\\sklearn\\utils\\validation.py:985: DataConversionWarning: A column-vector y was passed when a 1d array was expected. Please change the shape of y to (n_samples, ), for example using ravel().\n",
      "  y = column_or_1d(y, warn=True)\n"
     ]
    },
    {
     "name": "stdout",
     "output_type": "stream",
     "text": [
      "[CV 3/5] END ......C=0.1, gamma=0.1, kernel=rbf;, score=0.323 total time=   3.5s\n"
     ]
    },
    {
     "name": "stderr",
     "output_type": "stream",
     "text": [
      "C:\\Users\\tiago\\anaconda3\\envs\\DAA\\lib\\site-packages\\sklearn\\utils\\validation.py:985: DataConversionWarning: A column-vector y was passed when a 1d array was expected. Please change the shape of y to (n_samples, ), for example using ravel().\n",
      "  y = column_or_1d(y, warn=True)\n"
     ]
    },
    {
     "name": "stdout",
     "output_type": "stream",
     "text": [
      "[CV 4/5] END ......C=0.1, gamma=0.1, kernel=rbf;, score=0.323 total time=   3.6s\n"
     ]
    },
    {
     "name": "stderr",
     "output_type": "stream",
     "text": [
      "C:\\Users\\tiago\\anaconda3\\envs\\DAA\\lib\\site-packages\\sklearn\\utils\\validation.py:985: DataConversionWarning: A column-vector y was passed when a 1d array was expected. Please change the shape of y to (n_samples, ), for example using ravel().\n",
      "  y = column_or_1d(y, warn=True)\n"
     ]
    },
    {
     "name": "stdout",
     "output_type": "stream",
     "text": [
      "[CV 5/5] END ......C=0.1, gamma=0.1, kernel=rbf;, score=0.323 total time=   3.3s\n"
     ]
    },
    {
     "name": "stderr",
     "output_type": "stream",
     "text": [
      "C:\\Users\\tiago\\anaconda3\\envs\\DAA\\lib\\site-packages\\sklearn\\utils\\validation.py:985: DataConversionWarning: A column-vector y was passed when a 1d array was expected. Please change the shape of y to (n_samples, ), for example using ravel().\n",
      "  y = column_or_1d(y, warn=True)\n"
     ]
    },
    {
     "name": "stdout",
     "output_type": "stream",
     "text": [
      "[CV 1/5] END .....C=0.1, gamma=0.01, kernel=rbf;, score=0.699 total time=   1.9s\n"
     ]
    },
    {
     "name": "stderr",
     "output_type": "stream",
     "text": [
      "C:\\Users\\tiago\\anaconda3\\envs\\DAA\\lib\\site-packages\\sklearn\\utils\\validation.py:985: DataConversionWarning: A column-vector y was passed when a 1d array was expected. Please change the shape of y to (n_samples, ), for example using ravel().\n",
      "  y = column_or_1d(y, warn=True)\n"
     ]
    },
    {
     "name": "stdout",
     "output_type": "stream",
     "text": [
      "[CV 2/5] END .....C=0.1, gamma=0.01, kernel=rbf;, score=0.701 total time=   1.9s\n"
     ]
    },
    {
     "name": "stderr",
     "output_type": "stream",
     "text": [
      "C:\\Users\\tiago\\anaconda3\\envs\\DAA\\lib\\site-packages\\sklearn\\utils\\validation.py:985: DataConversionWarning: A column-vector y was passed when a 1d array was expected. Please change the shape of y to (n_samples, ), for example using ravel().\n",
      "  y = column_or_1d(y, warn=True)\n"
     ]
    },
    {
     "name": "stdout",
     "output_type": "stream",
     "text": [
      "[CV 3/5] END .....C=0.1, gamma=0.01, kernel=rbf;, score=0.725 total time=   1.9s\n"
     ]
    },
    {
     "name": "stderr",
     "output_type": "stream",
     "text": [
      "C:\\Users\\tiago\\anaconda3\\envs\\DAA\\lib\\site-packages\\sklearn\\utils\\validation.py:985: DataConversionWarning: A column-vector y was passed when a 1d array was expected. Please change the shape of y to (n_samples, ), for example using ravel().\n",
      "  y = column_or_1d(y, warn=True)\n"
     ]
    },
    {
     "name": "stdout",
     "output_type": "stream",
     "text": [
      "[CV 4/5] END .....C=0.1, gamma=0.01, kernel=rbf;, score=0.714 total time=   1.9s\n"
     ]
    },
    {
     "name": "stderr",
     "output_type": "stream",
     "text": [
      "C:\\Users\\tiago\\anaconda3\\envs\\DAA\\lib\\site-packages\\sklearn\\utils\\validation.py:985: DataConversionWarning: A column-vector y was passed when a 1d array was expected. Please change the shape of y to (n_samples, ), for example using ravel().\n",
      "  y = column_or_1d(y, warn=True)\n"
     ]
    },
    {
     "name": "stdout",
     "output_type": "stream",
     "text": [
      "[CV 5/5] END .....C=0.1, gamma=0.01, kernel=rbf;, score=0.696 total time=   1.8s\n"
     ]
    },
    {
     "name": "stderr",
     "output_type": "stream",
     "text": [
      "C:\\Users\\tiago\\anaconda3\\envs\\DAA\\lib\\site-packages\\sklearn\\utils\\validation.py:985: DataConversionWarning: A column-vector y was passed when a 1d array was expected. Please change the shape of y to (n_samples, ), for example using ravel().\n",
      "  y = column_or_1d(y, warn=True)\n"
     ]
    },
    {
     "name": "stdout",
     "output_type": "stream",
     "text": [
      "[CV 1/5] END ....C=0.1, gamma=0.001, kernel=rbf;, score=0.743 total time=   1.2s\n"
     ]
    },
    {
     "name": "stderr",
     "output_type": "stream",
     "text": [
      "C:\\Users\\tiago\\anaconda3\\envs\\DAA\\lib\\site-packages\\sklearn\\utils\\validation.py:985: DataConversionWarning: A column-vector y was passed when a 1d array was expected. Please change the shape of y to (n_samples, ), for example using ravel().\n",
      "  y = column_or_1d(y, warn=True)\n"
     ]
    },
    {
     "name": "stdout",
     "output_type": "stream",
     "text": [
      "[CV 2/5] END ....C=0.1, gamma=0.001, kernel=rbf;, score=0.756 total time=   1.1s\n"
     ]
    },
    {
     "name": "stderr",
     "output_type": "stream",
     "text": [
      "C:\\Users\\tiago\\anaconda3\\envs\\DAA\\lib\\site-packages\\sklearn\\utils\\validation.py:985: DataConversionWarning: A column-vector y was passed when a 1d array was expected. Please change the shape of y to (n_samples, ), for example using ravel().\n",
      "  y = column_or_1d(y, warn=True)\n"
     ]
    },
    {
     "name": "stdout",
     "output_type": "stream",
     "text": [
      "[CV 3/5] END ....C=0.1, gamma=0.001, kernel=rbf;, score=0.775 total time=   1.2s\n"
     ]
    },
    {
     "name": "stderr",
     "output_type": "stream",
     "text": [
      "C:\\Users\\tiago\\anaconda3\\envs\\DAA\\lib\\site-packages\\sklearn\\utils\\validation.py:985: DataConversionWarning: A column-vector y was passed when a 1d array was expected. Please change the shape of y to (n_samples, ), for example using ravel().\n",
      "  y = column_or_1d(y, warn=True)\n"
     ]
    },
    {
     "name": "stdout",
     "output_type": "stream",
     "text": [
      "[CV 4/5] END ....C=0.1, gamma=0.001, kernel=rbf;, score=0.744 total time=   1.1s\n"
     ]
    },
    {
     "name": "stderr",
     "output_type": "stream",
     "text": [
      "C:\\Users\\tiago\\anaconda3\\envs\\DAA\\lib\\site-packages\\sklearn\\utils\\validation.py:985: DataConversionWarning: A column-vector y was passed when a 1d array was expected. Please change the shape of y to (n_samples, ), for example using ravel().\n",
      "  y = column_or_1d(y, warn=True)\n"
     ]
    },
    {
     "name": "stdout",
     "output_type": "stream",
     "text": [
      "[CV 5/5] END ....C=0.1, gamma=0.001, kernel=rbf;, score=0.758 total time=   1.2s\n"
     ]
    },
    {
     "name": "stderr",
     "output_type": "stream",
     "text": [
      "C:\\Users\\tiago\\anaconda3\\envs\\DAA\\lib\\site-packages\\sklearn\\utils\\validation.py:985: DataConversionWarning: A column-vector y was passed when a 1d array was expected. Please change the shape of y to (n_samples, ), for example using ravel().\n",
      "  y = column_or_1d(y, warn=True)\n"
     ]
    },
    {
     "name": "stdout",
     "output_type": "stream",
     "text": [
      "[CV 1/5] END ...C=0.1, gamma=0.0001, kernel=rbf;, score=0.669 total time=   1.6s\n"
     ]
    },
    {
     "name": "stderr",
     "output_type": "stream",
     "text": [
      "C:\\Users\\tiago\\anaconda3\\envs\\DAA\\lib\\site-packages\\sklearn\\utils\\validation.py:985: DataConversionWarning: A column-vector y was passed when a 1d array was expected. Please change the shape of y to (n_samples, ), for example using ravel().\n",
      "  y = column_or_1d(y, warn=True)\n"
     ]
    },
    {
     "name": "stdout",
     "output_type": "stream",
     "text": [
      "[CV 2/5] END ...C=0.1, gamma=0.0001, kernel=rbf;, score=0.701 total time=   1.7s\n"
     ]
    },
    {
     "name": "stderr",
     "output_type": "stream",
     "text": [
      "C:\\Users\\tiago\\anaconda3\\envs\\DAA\\lib\\site-packages\\sklearn\\utils\\validation.py:985: DataConversionWarning: A column-vector y was passed when a 1d array was expected. Please change the shape of y to (n_samples, ), for example using ravel().\n",
      "  y = column_or_1d(y, warn=True)\n"
     ]
    },
    {
     "name": "stdout",
     "output_type": "stream",
     "text": [
      "[CV 3/5] END ...C=0.1, gamma=0.0001, kernel=rbf;, score=0.709 total time=   1.6s\n"
     ]
    },
    {
     "name": "stderr",
     "output_type": "stream",
     "text": [
      "C:\\Users\\tiago\\anaconda3\\envs\\DAA\\lib\\site-packages\\sklearn\\utils\\validation.py:985: DataConversionWarning: A column-vector y was passed when a 1d array was expected. Please change the shape of y to (n_samples, ), for example using ravel().\n",
      "  y = column_or_1d(y, warn=True)\n"
     ]
    },
    {
     "name": "stdout",
     "output_type": "stream",
     "text": [
      "[CV 4/5] END ...C=0.1, gamma=0.0001, kernel=rbf;, score=0.708 total time=   1.5s\n"
     ]
    },
    {
     "name": "stderr",
     "output_type": "stream",
     "text": [
      "C:\\Users\\tiago\\anaconda3\\envs\\DAA\\lib\\site-packages\\sklearn\\utils\\validation.py:985: DataConversionWarning: A column-vector y was passed when a 1d array was expected. Please change the shape of y to (n_samples, ), for example using ravel().\n",
      "  y = column_or_1d(y, warn=True)\n"
     ]
    },
    {
     "name": "stdout",
     "output_type": "stream",
     "text": [
      "[CV 5/5] END ...C=0.1, gamma=0.0001, kernel=rbf;, score=0.698 total time=   1.5s\n"
     ]
    },
    {
     "name": "stderr",
     "output_type": "stream",
     "text": [
      "C:\\Users\\tiago\\anaconda3\\envs\\DAA\\lib\\site-packages\\sklearn\\utils\\validation.py:985: DataConversionWarning: A column-vector y was passed when a 1d array was expected. Please change the shape of y to (n_samples, ), for example using ravel().\n",
      "  y = column_or_1d(y, warn=True)\n"
     ]
    },
    {
     "name": "stdout",
     "output_type": "stream",
     "text": [
      "[CV 1/5] END ..........C=1, gamma=1, kernel=rbf;, score=0.323 total time=   5.1s\n"
     ]
    },
    {
     "name": "stderr",
     "output_type": "stream",
     "text": [
      "C:\\Users\\tiago\\anaconda3\\envs\\DAA\\lib\\site-packages\\sklearn\\utils\\validation.py:985: DataConversionWarning: A column-vector y was passed when a 1d array was expected. Please change the shape of y to (n_samples, ), for example using ravel().\n",
      "  y = column_or_1d(y, warn=True)\n"
     ]
    },
    {
     "name": "stdout",
     "output_type": "stream",
     "text": [
      "[CV 2/5] END ..........C=1, gamma=1, kernel=rbf;, score=0.323 total time=   4.8s\n"
     ]
    },
    {
     "name": "stderr",
     "output_type": "stream",
     "text": [
      "C:\\Users\\tiago\\anaconda3\\envs\\DAA\\lib\\site-packages\\sklearn\\utils\\validation.py:985: DataConversionWarning: A column-vector y was passed when a 1d array was expected. Please change the shape of y to (n_samples, ), for example using ravel().\n",
      "  y = column_or_1d(y, warn=True)\n"
     ]
    },
    {
     "name": "stdout",
     "output_type": "stream",
     "text": [
      "[CV 3/5] END ..........C=1, gamma=1, kernel=rbf;, score=0.323 total time=   5.0s\n"
     ]
    },
    {
     "name": "stderr",
     "output_type": "stream",
     "text": [
      "C:\\Users\\tiago\\anaconda3\\envs\\DAA\\lib\\site-packages\\sklearn\\utils\\validation.py:985: DataConversionWarning: A column-vector y was passed when a 1d array was expected. Please change the shape of y to (n_samples, ), for example using ravel().\n",
      "  y = column_or_1d(y, warn=True)\n"
     ]
    },
    {
     "name": "stdout",
     "output_type": "stream",
     "text": [
      "[CV 4/5] END ..........C=1, gamma=1, kernel=rbf;, score=0.323 total time=   4.9s\n"
     ]
    },
    {
     "name": "stderr",
     "output_type": "stream",
     "text": [
      "C:\\Users\\tiago\\anaconda3\\envs\\DAA\\lib\\site-packages\\sklearn\\utils\\validation.py:985: DataConversionWarning: A column-vector y was passed when a 1d array was expected. Please change the shape of y to (n_samples, ), for example using ravel().\n",
      "  y = column_or_1d(y, warn=True)\n"
     ]
    },
    {
     "name": "stdout",
     "output_type": "stream",
     "text": [
      "[CV 5/5] END ..........C=1, gamma=1, kernel=rbf;, score=0.323 total time=   4.9s\n"
     ]
    },
    {
     "name": "stderr",
     "output_type": "stream",
     "text": [
      "C:\\Users\\tiago\\anaconda3\\envs\\DAA\\lib\\site-packages\\sklearn\\utils\\validation.py:985: DataConversionWarning: A column-vector y was passed when a 1d array was expected. Please change the shape of y to (n_samples, ), for example using ravel().\n",
      "  y = column_or_1d(y, warn=True)\n"
     ]
    },
    {
     "name": "stdout",
     "output_type": "stream",
     "text": [
      "[CV 1/5] END ........C=1, gamma=0.1, kernel=rbf;, score=0.415 total time=   3.4s\n"
     ]
    },
    {
     "name": "stderr",
     "output_type": "stream",
     "text": [
      "C:\\Users\\tiago\\anaconda3\\envs\\DAA\\lib\\site-packages\\sklearn\\utils\\validation.py:985: DataConversionWarning: A column-vector y was passed when a 1d array was expected. Please change the shape of y to (n_samples, ), for example using ravel().\n",
      "  y = column_or_1d(y, warn=True)\n"
     ]
    },
    {
     "name": "stdout",
     "output_type": "stream",
     "text": [
      "[CV 2/5] END ........C=1, gamma=0.1, kernel=rbf;, score=0.405 total time=   3.6s\n"
     ]
    },
    {
     "name": "stderr",
     "output_type": "stream",
     "text": [
      "C:\\Users\\tiago\\anaconda3\\envs\\DAA\\lib\\site-packages\\sklearn\\utils\\validation.py:985: DataConversionWarning: A column-vector y was passed when a 1d array was expected. Please change the shape of y to (n_samples, ), for example using ravel().\n",
      "  y = column_or_1d(y, warn=True)\n"
     ]
    },
    {
     "name": "stdout",
     "output_type": "stream",
     "text": [
      "[CV 3/5] END ........C=1, gamma=0.1, kernel=rbf;, score=0.412 total time=   3.6s\n"
     ]
    },
    {
     "name": "stderr",
     "output_type": "stream",
     "text": [
      "C:\\Users\\tiago\\anaconda3\\envs\\DAA\\lib\\site-packages\\sklearn\\utils\\validation.py:985: DataConversionWarning: A column-vector y was passed when a 1d array was expected. Please change the shape of y to (n_samples, ), for example using ravel().\n",
      "  y = column_or_1d(y, warn=True)\n"
     ]
    },
    {
     "name": "stdout",
     "output_type": "stream",
     "text": [
      "[CV 4/5] END ........C=1, gamma=0.1, kernel=rbf;, score=0.405 total time=   3.5s\n"
     ]
    },
    {
     "name": "stderr",
     "output_type": "stream",
     "text": [
      "C:\\Users\\tiago\\anaconda3\\envs\\DAA\\lib\\site-packages\\sklearn\\utils\\validation.py:985: DataConversionWarning: A column-vector y was passed when a 1d array was expected. Please change the shape of y to (n_samples, ), for example using ravel().\n",
      "  y = column_or_1d(y, warn=True)\n"
     ]
    },
    {
     "name": "stdout",
     "output_type": "stream",
     "text": [
      "[CV 5/5] END ........C=1, gamma=0.1, kernel=rbf;, score=0.421 total time=   3.7s\n"
     ]
    },
    {
     "name": "stderr",
     "output_type": "stream",
     "text": [
      "C:\\Users\\tiago\\anaconda3\\envs\\DAA\\lib\\site-packages\\sklearn\\utils\\validation.py:985: DataConversionWarning: A column-vector y was passed when a 1d array was expected. Please change the shape of y to (n_samples, ), for example using ravel().\n",
      "  y = column_or_1d(y, warn=True)\n"
     ]
    },
    {
     "name": "stdout",
     "output_type": "stream",
     "text": [
      "[CV 1/5] END .......C=1, gamma=0.01, kernel=rbf;, score=0.759 total time=   1.7s\n"
     ]
    },
    {
     "name": "stderr",
     "output_type": "stream",
     "text": [
      "C:\\Users\\tiago\\anaconda3\\envs\\DAA\\lib\\site-packages\\sklearn\\utils\\validation.py:985: DataConversionWarning: A column-vector y was passed when a 1d array was expected. Please change the shape of y to (n_samples, ), for example using ravel().\n",
      "  y = column_or_1d(y, warn=True)\n"
     ]
    },
    {
     "name": "stdout",
     "output_type": "stream",
     "text": [
      "[CV 2/5] END .......C=1, gamma=0.01, kernel=rbf;, score=0.768 total time=   1.9s\n"
     ]
    },
    {
     "name": "stderr",
     "output_type": "stream",
     "text": [
      "C:\\Users\\tiago\\anaconda3\\envs\\DAA\\lib\\site-packages\\sklearn\\utils\\validation.py:985: DataConversionWarning: A column-vector y was passed when a 1d array was expected. Please change the shape of y to (n_samples, ), for example using ravel().\n",
      "  y = column_or_1d(y, warn=True)\n"
     ]
    },
    {
     "name": "stdout",
     "output_type": "stream",
     "text": [
      "[CV 3/5] END .......C=1, gamma=0.01, kernel=rbf;, score=0.772 total time=   1.7s\n"
     ]
    },
    {
     "name": "stderr",
     "output_type": "stream",
     "text": [
      "C:\\Users\\tiago\\anaconda3\\envs\\DAA\\lib\\site-packages\\sklearn\\utils\\validation.py:985: DataConversionWarning: A column-vector y was passed when a 1d array was expected. Please change the shape of y to (n_samples, ), for example using ravel().\n",
      "  y = column_or_1d(y, warn=True)\n"
     ]
    },
    {
     "name": "stdout",
     "output_type": "stream",
     "text": [
      "[CV 4/5] END .......C=1, gamma=0.01, kernel=rbf;, score=0.775 total time=   1.6s\n"
     ]
    },
    {
     "name": "stderr",
     "output_type": "stream",
     "text": [
      "C:\\Users\\tiago\\anaconda3\\envs\\DAA\\lib\\site-packages\\sklearn\\utils\\validation.py:985: DataConversionWarning: A column-vector y was passed when a 1d array was expected. Please change the shape of y to (n_samples, ), for example using ravel().\n",
      "  y = column_or_1d(y, warn=True)\n"
     ]
    },
    {
     "name": "stdout",
     "output_type": "stream",
     "text": [
      "[CV 5/5] END .......C=1, gamma=0.01, kernel=rbf;, score=0.767 total time=   1.5s\n"
     ]
    },
    {
     "name": "stderr",
     "output_type": "stream",
     "text": [
      "C:\\Users\\tiago\\anaconda3\\envs\\DAA\\lib\\site-packages\\sklearn\\utils\\validation.py:985: DataConversionWarning: A column-vector y was passed when a 1d array was expected. Please change the shape of y to (n_samples, ), for example using ravel().\n",
      "  y = column_or_1d(y, warn=True)\n"
     ]
    },
    {
     "name": "stdout",
     "output_type": "stream",
     "text": [
      "[CV 1/5] END ......C=1, gamma=0.001, kernel=rbf;, score=0.771 total time=   0.9s\n"
     ]
    },
    {
     "name": "stderr",
     "output_type": "stream",
     "text": [
      "C:\\Users\\tiago\\anaconda3\\envs\\DAA\\lib\\site-packages\\sklearn\\utils\\validation.py:985: DataConversionWarning: A column-vector y was passed when a 1d array was expected. Please change the shape of y to (n_samples, ), for example using ravel().\n",
      "  y = column_or_1d(y, warn=True)\n"
     ]
    },
    {
     "name": "stdout",
     "output_type": "stream",
     "text": [
      "[CV 2/5] END ......C=1, gamma=0.001, kernel=rbf;, score=0.779 total time=   0.9s\n"
     ]
    },
    {
     "name": "stderr",
     "output_type": "stream",
     "text": [
      "C:\\Users\\tiago\\anaconda3\\envs\\DAA\\lib\\site-packages\\sklearn\\utils\\validation.py:985: DataConversionWarning: A column-vector y was passed when a 1d array was expected. Please change the shape of y to (n_samples, ), for example using ravel().\n",
      "  y = column_or_1d(y, warn=True)\n"
     ]
    },
    {
     "name": "stdout",
     "output_type": "stream",
     "text": [
      "[CV 3/5] END ......C=1, gamma=0.001, kernel=rbf;, score=0.795 total time=   1.0s\n"
     ]
    },
    {
     "name": "stderr",
     "output_type": "stream",
     "text": [
      "C:\\Users\\tiago\\anaconda3\\envs\\DAA\\lib\\site-packages\\sklearn\\utils\\validation.py:985: DataConversionWarning: A column-vector y was passed when a 1d array was expected. Please change the shape of y to (n_samples, ), for example using ravel().\n",
      "  y = column_or_1d(y, warn=True)\n"
     ]
    },
    {
     "name": "stdout",
     "output_type": "stream",
     "text": [
      "[CV 4/5] END ......C=1, gamma=0.001, kernel=rbf;, score=0.761 total time=   0.9s\n"
     ]
    },
    {
     "name": "stderr",
     "output_type": "stream",
     "text": [
      "C:\\Users\\tiago\\anaconda3\\envs\\DAA\\lib\\site-packages\\sklearn\\utils\\validation.py:985: DataConversionWarning: A column-vector y was passed when a 1d array was expected. Please change the shape of y to (n_samples, ), for example using ravel().\n",
      "  y = column_or_1d(y, warn=True)\n"
     ]
    },
    {
     "name": "stdout",
     "output_type": "stream",
     "text": [
      "[CV 5/5] END ......C=1, gamma=0.001, kernel=rbf;, score=0.779 total time=   1.0s\n"
     ]
    },
    {
     "name": "stderr",
     "output_type": "stream",
     "text": [
      "C:\\Users\\tiago\\anaconda3\\envs\\DAA\\lib\\site-packages\\sklearn\\utils\\validation.py:985: DataConversionWarning: A column-vector y was passed when a 1d array was expected. Please change the shape of y to (n_samples, ), for example using ravel().\n",
      "  y = column_or_1d(y, warn=True)\n"
     ]
    },
    {
     "name": "stdout",
     "output_type": "stream",
     "text": [
      "[CV 1/5] END .....C=1, gamma=0.0001, kernel=rbf;, score=0.752 total time=   1.0s\n"
     ]
    },
    {
     "name": "stderr",
     "output_type": "stream",
     "text": [
      "C:\\Users\\tiago\\anaconda3\\envs\\DAA\\lib\\site-packages\\sklearn\\utils\\validation.py:985: DataConversionWarning: A column-vector y was passed when a 1d array was expected. Please change the shape of y to (n_samples, ), for example using ravel().\n",
      "  y = column_or_1d(y, warn=True)\n"
     ]
    },
    {
     "name": "stdout",
     "output_type": "stream",
     "text": [
      "[CV 2/5] END .....C=1, gamma=0.0001, kernel=rbf;, score=0.764 total time=   1.1s\n"
     ]
    },
    {
     "name": "stderr",
     "output_type": "stream",
     "text": [
      "C:\\Users\\tiago\\anaconda3\\envs\\DAA\\lib\\site-packages\\sklearn\\utils\\validation.py:985: DataConversionWarning: A column-vector y was passed when a 1d array was expected. Please change the shape of y to (n_samples, ), for example using ravel().\n",
      "  y = column_or_1d(y, warn=True)\n"
     ]
    },
    {
     "name": "stdout",
     "output_type": "stream",
     "text": [
      "[CV 3/5] END .....C=1, gamma=0.0001, kernel=rbf;, score=0.786 total time=   1.0s\n"
     ]
    },
    {
     "name": "stderr",
     "output_type": "stream",
     "text": [
      "C:\\Users\\tiago\\anaconda3\\envs\\DAA\\lib\\site-packages\\sklearn\\utils\\validation.py:985: DataConversionWarning: A column-vector y was passed when a 1d array was expected. Please change the shape of y to (n_samples, ), for example using ravel().\n",
      "  y = column_or_1d(y, warn=True)\n"
     ]
    },
    {
     "name": "stdout",
     "output_type": "stream",
     "text": [
      "[CV 4/5] END .....C=1, gamma=0.0001, kernel=rbf;, score=0.760 total time=   1.0s\n"
     ]
    },
    {
     "name": "stderr",
     "output_type": "stream",
     "text": [
      "C:\\Users\\tiago\\anaconda3\\envs\\DAA\\lib\\site-packages\\sklearn\\utils\\validation.py:985: DataConversionWarning: A column-vector y was passed when a 1d array was expected. Please change the shape of y to (n_samples, ), for example using ravel().\n",
      "  y = column_or_1d(y, warn=True)\n"
     ]
    },
    {
     "name": "stdout",
     "output_type": "stream",
     "text": [
      "[CV 5/5] END .....C=1, gamma=0.0001, kernel=rbf;, score=0.766 total time=   1.0s\n"
     ]
    },
    {
     "name": "stderr",
     "output_type": "stream",
     "text": [
      "C:\\Users\\tiago\\anaconda3\\envs\\DAA\\lib\\site-packages\\sklearn\\utils\\validation.py:985: DataConversionWarning: A column-vector y was passed when a 1d array was expected. Please change the shape of y to (n_samples, ), for example using ravel().\n",
      "  y = column_or_1d(y, warn=True)\n"
     ]
    },
    {
     "name": "stdout",
     "output_type": "stream",
     "text": [
      "[CV 1/5] END .........C=10, gamma=1, kernel=rbf;, score=0.323 total time=   5.5s\n"
     ]
    },
    {
     "name": "stderr",
     "output_type": "stream",
     "text": [
      "C:\\Users\\tiago\\anaconda3\\envs\\DAA\\lib\\site-packages\\sklearn\\utils\\validation.py:985: DataConversionWarning: A column-vector y was passed when a 1d array was expected. Please change the shape of y to (n_samples, ), for example using ravel().\n",
      "  y = column_or_1d(y, warn=True)\n"
     ]
    },
    {
     "name": "stdout",
     "output_type": "stream",
     "text": [
      "[CV 2/5] END .........C=10, gamma=1, kernel=rbf;, score=0.324 total time=   5.5s\n"
     ]
    },
    {
     "name": "stderr",
     "output_type": "stream",
     "text": [
      "C:\\Users\\tiago\\anaconda3\\envs\\DAA\\lib\\site-packages\\sklearn\\utils\\validation.py:985: DataConversionWarning: A column-vector y was passed when a 1d array was expected. Please change the shape of y to (n_samples, ), for example using ravel().\n",
      "  y = column_or_1d(y, warn=True)\n"
     ]
    },
    {
     "name": "stdout",
     "output_type": "stream",
     "text": [
      "[CV 3/5] END .........C=10, gamma=1, kernel=rbf;, score=0.323 total time=   5.7s\n"
     ]
    },
    {
     "name": "stderr",
     "output_type": "stream",
     "text": [
      "C:\\Users\\tiago\\anaconda3\\envs\\DAA\\lib\\site-packages\\sklearn\\utils\\validation.py:985: DataConversionWarning: A column-vector y was passed when a 1d array was expected. Please change the shape of y to (n_samples, ), for example using ravel().\n",
      "  y = column_or_1d(y, warn=True)\n"
     ]
    },
    {
     "name": "stdout",
     "output_type": "stream",
     "text": [
      "[CV 4/5] END .........C=10, gamma=1, kernel=rbf;, score=0.323 total time=   5.5s\n"
     ]
    },
    {
     "name": "stderr",
     "output_type": "stream",
     "text": [
      "C:\\Users\\tiago\\anaconda3\\envs\\DAA\\lib\\site-packages\\sklearn\\utils\\validation.py:985: DataConversionWarning: A column-vector y was passed when a 1d array was expected. Please change the shape of y to (n_samples, ), for example using ravel().\n",
      "  y = column_or_1d(y, warn=True)\n"
     ]
    },
    {
     "name": "stdout",
     "output_type": "stream",
     "text": [
      "[CV 5/5] END .........C=10, gamma=1, kernel=rbf;, score=0.324 total time=   5.3s\n"
     ]
    },
    {
     "name": "stderr",
     "output_type": "stream",
     "text": [
      "C:\\Users\\tiago\\anaconda3\\envs\\DAA\\lib\\site-packages\\sklearn\\utils\\validation.py:985: DataConversionWarning: A column-vector y was passed when a 1d array was expected. Please change the shape of y to (n_samples, ), for example using ravel().\n",
      "  y = column_or_1d(y, warn=True)\n"
     ]
    },
    {
     "name": "stdout",
     "output_type": "stream",
     "text": [
      "[CV 1/5] END .......C=10, gamma=0.1, kernel=rbf;, score=0.439 total time=   3.4s\n"
     ]
    },
    {
     "name": "stderr",
     "output_type": "stream",
     "text": [
      "C:\\Users\\tiago\\anaconda3\\envs\\DAA\\lib\\site-packages\\sklearn\\utils\\validation.py:985: DataConversionWarning: A column-vector y was passed when a 1d array was expected. Please change the shape of y to (n_samples, ), for example using ravel().\n",
      "  y = column_or_1d(y, warn=True)\n"
     ]
    },
    {
     "name": "stdout",
     "output_type": "stream",
     "text": [
      "[CV 2/5] END .......C=10, gamma=0.1, kernel=rbf;, score=0.428 total time=   3.6s\n"
     ]
    },
    {
     "name": "stderr",
     "output_type": "stream",
     "text": [
      "C:\\Users\\tiago\\anaconda3\\envs\\DAA\\lib\\site-packages\\sklearn\\utils\\validation.py:985: DataConversionWarning: A column-vector y was passed when a 1d array was expected. Please change the shape of y to (n_samples, ), for example using ravel().\n",
      "  y = column_or_1d(y, warn=True)\n"
     ]
    },
    {
     "name": "stdout",
     "output_type": "stream",
     "text": [
      "[CV 3/5] END .......C=10, gamma=0.1, kernel=rbf;, score=0.445 total time=   3.4s\n"
     ]
    },
    {
     "name": "stderr",
     "output_type": "stream",
     "text": [
      "C:\\Users\\tiago\\anaconda3\\envs\\DAA\\lib\\site-packages\\sklearn\\utils\\validation.py:985: DataConversionWarning: A column-vector y was passed when a 1d array was expected. Please change the shape of y to (n_samples, ), for example using ravel().\n",
      "  y = column_or_1d(y, warn=True)\n"
     ]
    },
    {
     "name": "stdout",
     "output_type": "stream",
     "text": [
      "[CV 4/5] END .......C=10, gamma=0.1, kernel=rbf;, score=0.441 total time=   3.7s\n"
     ]
    },
    {
     "name": "stderr",
     "output_type": "stream",
     "text": [
      "C:\\Users\\tiago\\anaconda3\\envs\\DAA\\lib\\site-packages\\sklearn\\utils\\validation.py:985: DataConversionWarning: A column-vector y was passed when a 1d array was expected. Please change the shape of y to (n_samples, ), for example using ravel().\n",
      "  y = column_or_1d(y, warn=True)\n"
     ]
    },
    {
     "name": "stdout",
     "output_type": "stream",
     "text": [
      "[CV 5/5] END .......C=10, gamma=0.1, kernel=rbf;, score=0.458 total time=   3.8s\n"
     ]
    },
    {
     "name": "stderr",
     "output_type": "stream",
     "text": [
      "C:\\Users\\tiago\\anaconda3\\envs\\DAA\\lib\\site-packages\\sklearn\\utils\\validation.py:985: DataConversionWarning: A column-vector y was passed when a 1d array was expected. Please change the shape of y to (n_samples, ), for example using ravel().\n",
      "  y = column_or_1d(y, warn=True)\n"
     ]
    },
    {
     "name": "stdout",
     "output_type": "stream",
     "text": [
      "[CV 1/5] END ......C=10, gamma=0.01, kernel=rbf;, score=0.726 total time=   1.7s\n"
     ]
    },
    {
     "name": "stderr",
     "output_type": "stream",
     "text": [
      "C:\\Users\\tiago\\anaconda3\\envs\\DAA\\lib\\site-packages\\sklearn\\utils\\validation.py:985: DataConversionWarning: A column-vector y was passed when a 1d array was expected. Please change the shape of y to (n_samples, ), for example using ravel().\n",
      "  y = column_or_1d(y, warn=True)\n"
     ]
    },
    {
     "name": "stdout",
     "output_type": "stream",
     "text": [
      "[CV 2/5] END ......C=10, gamma=0.01, kernel=rbf;, score=0.737 total time=   1.7s\n"
     ]
    },
    {
     "name": "stderr",
     "output_type": "stream",
     "text": [
      "C:\\Users\\tiago\\anaconda3\\envs\\DAA\\lib\\site-packages\\sklearn\\utils\\validation.py:985: DataConversionWarning: A column-vector y was passed when a 1d array was expected. Please change the shape of y to (n_samples, ), for example using ravel().\n",
      "  y = column_or_1d(y, warn=True)\n"
     ]
    },
    {
     "name": "stdout",
     "output_type": "stream",
     "text": [
      "[CV 3/5] END ......C=10, gamma=0.01, kernel=rbf;, score=0.735 total time=   2.1s\n"
     ]
    },
    {
     "name": "stderr",
     "output_type": "stream",
     "text": [
      "C:\\Users\\tiago\\anaconda3\\envs\\DAA\\lib\\site-packages\\sklearn\\utils\\validation.py:985: DataConversionWarning: A column-vector y was passed when a 1d array was expected. Please change the shape of y to (n_samples, ), for example using ravel().\n",
      "  y = column_or_1d(y, warn=True)\n"
     ]
    },
    {
     "name": "stdout",
     "output_type": "stream",
     "text": [
      "[CV 4/5] END ......C=10, gamma=0.01, kernel=rbf;, score=0.742 total time=   1.8s\n"
     ]
    },
    {
     "name": "stderr",
     "output_type": "stream",
     "text": [
      "C:\\Users\\tiago\\anaconda3\\envs\\DAA\\lib\\site-packages\\sklearn\\utils\\validation.py:985: DataConversionWarning: A column-vector y was passed when a 1d array was expected. Please change the shape of y to (n_samples, ), for example using ravel().\n",
      "  y = column_or_1d(y, warn=True)\n"
     ]
    },
    {
     "name": "stdout",
     "output_type": "stream",
     "text": [
      "[CV 5/5] END ......C=10, gamma=0.01, kernel=rbf;, score=0.738 total time=   1.7s\n"
     ]
    },
    {
     "name": "stderr",
     "output_type": "stream",
     "text": [
      "C:\\Users\\tiago\\anaconda3\\envs\\DAA\\lib\\site-packages\\sklearn\\utils\\validation.py:985: DataConversionWarning: A column-vector y was passed when a 1d array was expected. Please change the shape of y to (n_samples, ), for example using ravel().\n",
      "  y = column_or_1d(y, warn=True)\n"
     ]
    },
    {
     "name": "stdout",
     "output_type": "stream",
     "text": [
      "[CV 1/5] END .....C=10, gamma=0.001, kernel=rbf;, score=0.781 total time=   0.8s\n"
     ]
    },
    {
     "name": "stderr",
     "output_type": "stream",
     "text": [
      "C:\\Users\\tiago\\anaconda3\\envs\\DAA\\lib\\site-packages\\sklearn\\utils\\validation.py:985: DataConversionWarning: A column-vector y was passed when a 1d array was expected. Please change the shape of y to (n_samples, ), for example using ravel().\n",
      "  y = column_or_1d(y, warn=True)\n"
     ]
    },
    {
     "name": "stdout",
     "output_type": "stream",
     "text": [
      "[CV 2/5] END .....C=10, gamma=0.001, kernel=rbf;, score=0.777 total time=   0.8s\n"
     ]
    },
    {
     "name": "stderr",
     "output_type": "stream",
     "text": [
      "C:\\Users\\tiago\\anaconda3\\envs\\DAA\\lib\\site-packages\\sklearn\\utils\\validation.py:985: DataConversionWarning: A column-vector y was passed when a 1d array was expected. Please change the shape of y to (n_samples, ), for example using ravel().\n",
      "  y = column_or_1d(y, warn=True)\n"
     ]
    },
    {
     "name": "stdout",
     "output_type": "stream",
     "text": [
      "[CV 3/5] END .....C=10, gamma=0.001, kernel=rbf;, score=0.793 total time=   0.8s\n"
     ]
    },
    {
     "name": "stderr",
     "output_type": "stream",
     "text": [
      "C:\\Users\\tiago\\anaconda3\\envs\\DAA\\lib\\site-packages\\sklearn\\utils\\validation.py:985: DataConversionWarning: A column-vector y was passed when a 1d array was expected. Please change the shape of y to (n_samples, ), for example using ravel().\n",
      "  y = column_or_1d(y, warn=True)\n"
     ]
    },
    {
     "name": "stdout",
     "output_type": "stream",
     "text": [
      "[CV 4/5] END .....C=10, gamma=0.001, kernel=rbf;, score=0.778 total time=   0.9s\n"
     ]
    },
    {
     "name": "stderr",
     "output_type": "stream",
     "text": [
      "C:\\Users\\tiago\\anaconda3\\envs\\DAA\\lib\\site-packages\\sklearn\\utils\\validation.py:985: DataConversionWarning: A column-vector y was passed when a 1d array was expected. Please change the shape of y to (n_samples, ), for example using ravel().\n",
      "  y = column_or_1d(y, warn=True)\n"
     ]
    },
    {
     "name": "stdout",
     "output_type": "stream",
     "text": [
      "[CV 5/5] END .....C=10, gamma=0.001, kernel=rbf;, score=0.778 total time=   0.9s\n"
     ]
    },
    {
     "name": "stderr",
     "output_type": "stream",
     "text": [
      "C:\\Users\\tiago\\anaconda3\\envs\\DAA\\lib\\site-packages\\sklearn\\utils\\validation.py:985: DataConversionWarning: A column-vector y was passed when a 1d array was expected. Please change the shape of y to (n_samples, ), for example using ravel().\n",
      "  y = column_or_1d(y, warn=True)\n"
     ]
    },
    {
     "name": "stdout",
     "output_type": "stream",
     "text": [
      "[CV 1/5] END ....C=10, gamma=0.0001, kernel=rbf;, score=0.770 total time=   0.8s\n"
     ]
    },
    {
     "name": "stderr",
     "output_type": "stream",
     "text": [
      "C:\\Users\\tiago\\anaconda3\\envs\\DAA\\lib\\site-packages\\sklearn\\utils\\validation.py:985: DataConversionWarning: A column-vector y was passed when a 1d array was expected. Please change the shape of y to (n_samples, ), for example using ravel().\n",
      "  y = column_or_1d(y, warn=True)\n"
     ]
    },
    {
     "name": "stdout",
     "output_type": "stream",
     "text": [
      "[CV 2/5] END ....C=10, gamma=0.0001, kernel=rbf;, score=0.775 total time=   0.9s\n"
     ]
    },
    {
     "name": "stderr",
     "output_type": "stream",
     "text": [
      "C:\\Users\\tiago\\anaconda3\\envs\\DAA\\lib\\site-packages\\sklearn\\utils\\validation.py:985: DataConversionWarning: A column-vector y was passed when a 1d array was expected. Please change the shape of y to (n_samples, ), for example using ravel().\n",
      "  y = column_or_1d(y, warn=True)\n"
     ]
    },
    {
     "name": "stdout",
     "output_type": "stream",
     "text": [
      "[CV 3/5] END ....C=10, gamma=0.0001, kernel=rbf;, score=0.795 total time=   0.9s\n"
     ]
    },
    {
     "name": "stderr",
     "output_type": "stream",
     "text": [
      "C:\\Users\\tiago\\anaconda3\\envs\\DAA\\lib\\site-packages\\sklearn\\utils\\validation.py:985: DataConversionWarning: A column-vector y was passed when a 1d array was expected. Please change the shape of y to (n_samples, ), for example using ravel().\n",
      "  y = column_or_1d(y, warn=True)\n"
     ]
    },
    {
     "name": "stdout",
     "output_type": "stream",
     "text": [
      "[CV 4/5] END ....C=10, gamma=0.0001, kernel=rbf;, score=0.770 total time=   0.8s\n"
     ]
    },
    {
     "name": "stderr",
     "output_type": "stream",
     "text": [
      "C:\\Users\\tiago\\anaconda3\\envs\\DAA\\lib\\site-packages\\sklearn\\utils\\validation.py:985: DataConversionWarning: A column-vector y was passed when a 1d array was expected. Please change the shape of y to (n_samples, ), for example using ravel().\n",
      "  y = column_or_1d(y, warn=True)\n"
     ]
    },
    {
     "name": "stdout",
     "output_type": "stream",
     "text": [
      "[CV 5/5] END ....C=10, gamma=0.0001, kernel=rbf;, score=0.782 total time=   0.8s\n"
     ]
    },
    {
     "name": "stderr",
     "output_type": "stream",
     "text": [
      "C:\\Users\\tiago\\anaconda3\\envs\\DAA\\lib\\site-packages\\sklearn\\utils\\validation.py:985: DataConversionWarning: A column-vector y was passed when a 1d array was expected. Please change the shape of y to (n_samples, ), for example using ravel().\n",
      "  y = column_or_1d(y, warn=True)\n"
     ]
    },
    {
     "name": "stdout",
     "output_type": "stream",
     "text": [
      "[CV 1/5] END ........C=100, gamma=1, kernel=rbf;, score=0.323 total time=   5.5s\n"
     ]
    },
    {
     "name": "stderr",
     "output_type": "stream",
     "text": [
      "C:\\Users\\tiago\\anaconda3\\envs\\DAA\\lib\\site-packages\\sklearn\\utils\\validation.py:985: DataConversionWarning: A column-vector y was passed when a 1d array was expected. Please change the shape of y to (n_samples, ), for example using ravel().\n",
      "  y = column_or_1d(y, warn=True)\n"
     ]
    },
    {
     "name": "stdout",
     "output_type": "stream",
     "text": [
      "[CV 2/5] END ........C=100, gamma=1, kernel=rbf;, score=0.324 total time=   5.4s\n"
     ]
    },
    {
     "name": "stderr",
     "output_type": "stream",
     "text": [
      "C:\\Users\\tiago\\anaconda3\\envs\\DAA\\lib\\site-packages\\sklearn\\utils\\validation.py:985: DataConversionWarning: A column-vector y was passed when a 1d array was expected. Please change the shape of y to (n_samples, ), for example using ravel().\n",
      "  y = column_or_1d(y, warn=True)\n"
     ]
    },
    {
     "name": "stdout",
     "output_type": "stream",
     "text": [
      "[CV 3/5] END ........C=100, gamma=1, kernel=rbf;, score=0.323 total time=   5.2s\n"
     ]
    },
    {
     "name": "stderr",
     "output_type": "stream",
     "text": [
      "C:\\Users\\tiago\\anaconda3\\envs\\DAA\\lib\\site-packages\\sklearn\\utils\\validation.py:985: DataConversionWarning: A column-vector y was passed when a 1d array was expected. Please change the shape of y to (n_samples, ), for example using ravel().\n",
      "  y = column_or_1d(y, warn=True)\n"
     ]
    },
    {
     "name": "stdout",
     "output_type": "stream",
     "text": [
      "[CV 4/5] END ........C=100, gamma=1, kernel=rbf;, score=0.323 total time=   5.4s\n"
     ]
    },
    {
     "name": "stderr",
     "output_type": "stream",
     "text": [
      "C:\\Users\\tiago\\anaconda3\\envs\\DAA\\lib\\site-packages\\sklearn\\utils\\validation.py:985: DataConversionWarning: A column-vector y was passed when a 1d array was expected. Please change the shape of y to (n_samples, ), for example using ravel().\n",
      "  y = column_or_1d(y, warn=True)\n"
     ]
    },
    {
     "name": "stdout",
     "output_type": "stream",
     "text": [
      "[CV 5/5] END ........C=100, gamma=1, kernel=rbf;, score=0.324 total time=   5.3s\n"
     ]
    },
    {
     "name": "stderr",
     "output_type": "stream",
     "text": [
      "C:\\Users\\tiago\\anaconda3\\envs\\DAA\\lib\\site-packages\\sklearn\\utils\\validation.py:985: DataConversionWarning: A column-vector y was passed when a 1d array was expected. Please change the shape of y to (n_samples, ), for example using ravel().\n",
      "  y = column_or_1d(y, warn=True)\n"
     ]
    },
    {
     "name": "stdout",
     "output_type": "stream",
     "text": [
      "[CV 1/5] END ......C=100, gamma=0.1, kernel=rbf;, score=0.439 total time=   3.5s\n"
     ]
    },
    {
     "name": "stderr",
     "output_type": "stream",
     "text": [
      "C:\\Users\\tiago\\anaconda3\\envs\\DAA\\lib\\site-packages\\sklearn\\utils\\validation.py:985: DataConversionWarning: A column-vector y was passed when a 1d array was expected. Please change the shape of y to (n_samples, ), for example using ravel().\n",
      "  y = column_or_1d(y, warn=True)\n"
     ]
    },
    {
     "name": "stdout",
     "output_type": "stream",
     "text": [
      "[CV 2/5] END ......C=100, gamma=0.1, kernel=rbf;, score=0.428 total time=   3.5s\n"
     ]
    },
    {
     "name": "stderr",
     "output_type": "stream",
     "text": [
      "C:\\Users\\tiago\\anaconda3\\envs\\DAA\\lib\\site-packages\\sklearn\\utils\\validation.py:985: DataConversionWarning: A column-vector y was passed when a 1d array was expected. Please change the shape of y to (n_samples, ), for example using ravel().\n",
      "  y = column_or_1d(y, warn=True)\n"
     ]
    },
    {
     "name": "stdout",
     "output_type": "stream",
     "text": [
      "[CV 3/5] END ......C=100, gamma=0.1, kernel=rbf;, score=0.445 total time=   3.8s\n"
     ]
    },
    {
     "name": "stderr",
     "output_type": "stream",
     "text": [
      "C:\\Users\\tiago\\anaconda3\\envs\\DAA\\lib\\site-packages\\sklearn\\utils\\validation.py:985: DataConversionWarning: A column-vector y was passed when a 1d array was expected. Please change the shape of y to (n_samples, ), for example using ravel().\n",
      "  y = column_or_1d(y, warn=True)\n"
     ]
    },
    {
     "name": "stdout",
     "output_type": "stream",
     "text": [
      "[CV 4/5] END ......C=100, gamma=0.1, kernel=rbf;, score=0.441 total time=   3.5s\n"
     ]
    },
    {
     "name": "stderr",
     "output_type": "stream",
     "text": [
      "C:\\Users\\tiago\\anaconda3\\envs\\DAA\\lib\\site-packages\\sklearn\\utils\\validation.py:985: DataConversionWarning: A column-vector y was passed when a 1d array was expected. Please change the shape of y to (n_samples, ), for example using ravel().\n",
      "  y = column_or_1d(y, warn=True)\n"
     ]
    },
    {
     "name": "stdout",
     "output_type": "stream",
     "text": [
      "[CV 5/5] END ......C=100, gamma=0.1, kernel=rbf;, score=0.458 total time=   3.4s\n"
     ]
    },
    {
     "name": "stderr",
     "output_type": "stream",
     "text": [
      "C:\\Users\\tiago\\anaconda3\\envs\\DAA\\lib\\site-packages\\sklearn\\utils\\validation.py:985: DataConversionWarning: A column-vector y was passed when a 1d array was expected. Please change the shape of y to (n_samples, ), for example using ravel().\n",
      "  y = column_or_1d(y, warn=True)\n"
     ]
    },
    {
     "name": "stdout",
     "output_type": "stream",
     "text": [
      "[CV 1/5] END .....C=100, gamma=0.01, kernel=rbf;, score=0.712 total time=   2.0s\n"
     ]
    },
    {
     "name": "stderr",
     "output_type": "stream",
     "text": [
      "C:\\Users\\tiago\\anaconda3\\envs\\DAA\\lib\\site-packages\\sklearn\\utils\\validation.py:985: DataConversionWarning: A column-vector y was passed when a 1d array was expected. Please change the shape of y to (n_samples, ), for example using ravel().\n",
      "  y = column_or_1d(y, warn=True)\n"
     ]
    },
    {
     "name": "stdout",
     "output_type": "stream",
     "text": [
      "[CV 2/5] END .....C=100, gamma=0.01, kernel=rbf;, score=0.712 total time=   1.8s\n"
     ]
    },
    {
     "name": "stderr",
     "output_type": "stream",
     "text": [
      "C:\\Users\\tiago\\anaconda3\\envs\\DAA\\lib\\site-packages\\sklearn\\utils\\validation.py:985: DataConversionWarning: A column-vector y was passed when a 1d array was expected. Please change the shape of y to (n_samples, ), for example using ravel().\n",
      "  y = column_or_1d(y, warn=True)\n"
     ]
    },
    {
     "name": "stdout",
     "output_type": "stream",
     "text": [
      "[CV 3/5] END .....C=100, gamma=0.01, kernel=rbf;, score=0.706 total time=   1.9s\n"
     ]
    },
    {
     "name": "stderr",
     "output_type": "stream",
     "text": [
      "C:\\Users\\tiago\\anaconda3\\envs\\DAA\\lib\\site-packages\\sklearn\\utils\\validation.py:985: DataConversionWarning: A column-vector y was passed when a 1d array was expected. Please change the shape of y to (n_samples, ), for example using ravel().\n",
      "  y = column_or_1d(y, warn=True)\n"
     ]
    },
    {
     "name": "stdout",
     "output_type": "stream",
     "text": [
      "[CV 4/5] END .....C=100, gamma=0.01, kernel=rbf;, score=0.720 total time=   2.1s\n"
     ]
    },
    {
     "name": "stderr",
     "output_type": "stream",
     "text": [
      "C:\\Users\\tiago\\anaconda3\\envs\\DAA\\lib\\site-packages\\sklearn\\utils\\validation.py:985: DataConversionWarning: A column-vector y was passed when a 1d array was expected. Please change the shape of y to (n_samples, ), for example using ravel().\n",
      "  y = column_or_1d(y, warn=True)\n"
     ]
    },
    {
     "name": "stdout",
     "output_type": "stream",
     "text": [
      "[CV 5/5] END .....C=100, gamma=0.01, kernel=rbf;, score=0.728 total time=   2.2s\n"
     ]
    },
    {
     "name": "stderr",
     "output_type": "stream",
     "text": [
      "C:\\Users\\tiago\\anaconda3\\envs\\DAA\\lib\\site-packages\\sklearn\\utils\\validation.py:985: DataConversionWarning: A column-vector y was passed when a 1d array was expected. Please change the shape of y to (n_samples, ), for example using ravel().\n",
      "  y = column_or_1d(y, warn=True)\n"
     ]
    },
    {
     "name": "stdout",
     "output_type": "stream",
     "text": [
      "[CV 1/5] END ....C=100, gamma=0.001, kernel=rbf;, score=0.750 total time=   1.2s\n"
     ]
    },
    {
     "name": "stderr",
     "output_type": "stream",
     "text": [
      "C:\\Users\\tiago\\anaconda3\\envs\\DAA\\lib\\site-packages\\sklearn\\utils\\validation.py:985: DataConversionWarning: A column-vector y was passed when a 1d array was expected. Please change the shape of y to (n_samples, ), for example using ravel().\n",
      "  y = column_or_1d(y, warn=True)\n"
     ]
    },
    {
     "name": "stdout",
     "output_type": "stream",
     "text": [
      "[CV 2/5] END ....C=100, gamma=0.001, kernel=rbf;, score=0.767 total time=   1.3s\n"
     ]
    },
    {
     "name": "stderr",
     "output_type": "stream",
     "text": [
      "C:\\Users\\tiago\\anaconda3\\envs\\DAA\\lib\\site-packages\\sklearn\\utils\\validation.py:985: DataConversionWarning: A column-vector y was passed when a 1d array was expected. Please change the shape of y to (n_samples, ), for example using ravel().\n",
      "  y = column_or_1d(y, warn=True)\n"
     ]
    },
    {
     "name": "stdout",
     "output_type": "stream",
     "text": [
      "[CV 3/5] END ....C=100, gamma=0.001, kernel=rbf;, score=0.766 total time=   1.3s\n"
     ]
    },
    {
     "name": "stderr",
     "output_type": "stream",
     "text": [
      "C:\\Users\\tiago\\anaconda3\\envs\\DAA\\lib\\site-packages\\sklearn\\utils\\validation.py:985: DataConversionWarning: A column-vector y was passed when a 1d array was expected. Please change the shape of y to (n_samples, ), for example using ravel().\n",
      "  y = column_or_1d(y, warn=True)\n"
     ]
    },
    {
     "name": "stdout",
     "output_type": "stream",
     "text": [
      "[CV 4/5] END ....C=100, gamma=0.001, kernel=rbf;, score=0.771 total time=   1.5s\n"
     ]
    },
    {
     "name": "stderr",
     "output_type": "stream",
     "text": [
      "C:\\Users\\tiago\\anaconda3\\envs\\DAA\\lib\\site-packages\\sklearn\\utils\\validation.py:985: DataConversionWarning: A column-vector y was passed when a 1d array was expected. Please change the shape of y to (n_samples, ), for example using ravel().\n",
      "  y = column_or_1d(y, warn=True)\n"
     ]
    },
    {
     "name": "stdout",
     "output_type": "stream",
     "text": [
      "[CV 5/5] END ....C=100, gamma=0.001, kernel=rbf;, score=0.764 total time=   1.3s\n"
     ]
    },
    {
     "name": "stderr",
     "output_type": "stream",
     "text": [
      "C:\\Users\\tiago\\anaconda3\\envs\\DAA\\lib\\site-packages\\sklearn\\utils\\validation.py:985: DataConversionWarning: A column-vector y was passed when a 1d array was expected. Please change the shape of y to (n_samples, ), for example using ravel().\n",
      "  y = column_or_1d(y, warn=True)\n"
     ]
    },
    {
     "name": "stdout",
     "output_type": "stream",
     "text": [
      "[CV 1/5] END ...C=100, gamma=0.0001, kernel=rbf;, score=0.770 total time=   1.0s\n"
     ]
    },
    {
     "name": "stderr",
     "output_type": "stream",
     "text": [
      "C:\\Users\\tiago\\anaconda3\\envs\\DAA\\lib\\site-packages\\sklearn\\utils\\validation.py:985: DataConversionWarning: A column-vector y was passed when a 1d array was expected. Please change the shape of y to (n_samples, ), for example using ravel().\n",
      "  y = column_or_1d(y, warn=True)\n"
     ]
    },
    {
     "name": "stdout",
     "output_type": "stream",
     "text": [
      "[CV 2/5] END ...C=100, gamma=0.0001, kernel=rbf;, score=0.784 total time=   0.9s\n"
     ]
    },
    {
     "name": "stderr",
     "output_type": "stream",
     "text": [
      "C:\\Users\\tiago\\anaconda3\\envs\\DAA\\lib\\site-packages\\sklearn\\utils\\validation.py:985: DataConversionWarning: A column-vector y was passed when a 1d array was expected. Please change the shape of y to (n_samples, ), for example using ravel().\n",
      "  y = column_or_1d(y, warn=True)\n"
     ]
    },
    {
     "name": "stdout",
     "output_type": "stream",
     "text": [
      "[CV 3/5] END ...C=100, gamma=0.0001, kernel=rbf;, score=0.798 total time=   0.9s\n"
     ]
    },
    {
     "name": "stderr",
     "output_type": "stream",
     "text": [
      "C:\\Users\\tiago\\anaconda3\\envs\\DAA\\lib\\site-packages\\sklearn\\utils\\validation.py:985: DataConversionWarning: A column-vector y was passed when a 1d array was expected. Please change the shape of y to (n_samples, ), for example using ravel().\n",
      "  y = column_or_1d(y, warn=True)\n"
     ]
    },
    {
     "name": "stdout",
     "output_type": "stream",
     "text": [
      "[CV 4/5] END ...C=100, gamma=0.0001, kernel=rbf;, score=0.780 total time=   0.8s\n"
     ]
    },
    {
     "name": "stderr",
     "output_type": "stream",
     "text": [
      "C:\\Users\\tiago\\anaconda3\\envs\\DAA\\lib\\site-packages\\sklearn\\utils\\validation.py:985: DataConversionWarning: A column-vector y was passed when a 1d array was expected. Please change the shape of y to (n_samples, ), for example using ravel().\n",
      "  y = column_or_1d(y, warn=True)\n"
     ]
    },
    {
     "name": "stdout",
     "output_type": "stream",
     "text": [
      "[CV 5/5] END ...C=100, gamma=0.0001, kernel=rbf;, score=0.783 total time=   0.8s\n"
     ]
    },
    {
     "name": "stderr",
     "output_type": "stream",
     "text": [
      "C:\\Users\\tiago\\anaconda3\\envs\\DAA\\lib\\site-packages\\sklearn\\utils\\validation.py:985: DataConversionWarning: A column-vector y was passed when a 1d array was expected. Please change the shape of y to (n_samples, ), for example using ravel().\n",
      "  y = column_or_1d(y, warn=True)\n"
     ]
    },
    {
     "name": "stdout",
     "output_type": "stream",
     "text": [
      "[CV 1/5] END .......C=1000, gamma=1, kernel=rbf;, score=0.323 total time=   5.5s\n"
     ]
    },
    {
     "name": "stderr",
     "output_type": "stream",
     "text": [
      "C:\\Users\\tiago\\anaconda3\\envs\\DAA\\lib\\site-packages\\sklearn\\utils\\validation.py:985: DataConversionWarning: A column-vector y was passed when a 1d array was expected. Please change the shape of y to (n_samples, ), for example using ravel().\n",
      "  y = column_or_1d(y, warn=True)\n"
     ]
    },
    {
     "name": "stdout",
     "output_type": "stream",
     "text": [
      "[CV 2/5] END .......C=1000, gamma=1, kernel=rbf;, score=0.324 total time=   5.5s\n"
     ]
    },
    {
     "name": "stderr",
     "output_type": "stream",
     "text": [
      "C:\\Users\\tiago\\anaconda3\\envs\\DAA\\lib\\site-packages\\sklearn\\utils\\validation.py:985: DataConversionWarning: A column-vector y was passed when a 1d array was expected. Please change the shape of y to (n_samples, ), for example using ravel().\n",
      "  y = column_or_1d(y, warn=True)\n"
     ]
    },
    {
     "name": "stdout",
     "output_type": "stream",
     "text": [
      "[CV 3/5] END .......C=1000, gamma=1, kernel=rbf;, score=0.323 total time=   5.2s\n"
     ]
    },
    {
     "name": "stderr",
     "output_type": "stream",
     "text": [
      "C:\\Users\\tiago\\anaconda3\\envs\\DAA\\lib\\site-packages\\sklearn\\utils\\validation.py:985: DataConversionWarning: A column-vector y was passed when a 1d array was expected. Please change the shape of y to (n_samples, ), for example using ravel().\n",
      "  y = column_or_1d(y, warn=True)\n"
     ]
    },
    {
     "name": "stdout",
     "output_type": "stream",
     "text": [
      "[CV 4/5] END .......C=1000, gamma=1, kernel=rbf;, score=0.323 total time=   5.5s\n"
     ]
    },
    {
     "name": "stderr",
     "output_type": "stream",
     "text": [
      "C:\\Users\\tiago\\anaconda3\\envs\\DAA\\lib\\site-packages\\sklearn\\utils\\validation.py:985: DataConversionWarning: A column-vector y was passed when a 1d array was expected. Please change the shape of y to (n_samples, ), for example using ravel().\n",
      "  y = column_or_1d(y, warn=True)\n"
     ]
    },
    {
     "name": "stdout",
     "output_type": "stream",
     "text": [
      "[CV 5/5] END .......C=1000, gamma=1, kernel=rbf;, score=0.324 total time=   5.3s\n"
     ]
    },
    {
     "name": "stderr",
     "output_type": "stream",
     "text": [
      "C:\\Users\\tiago\\anaconda3\\envs\\DAA\\lib\\site-packages\\sklearn\\utils\\validation.py:985: DataConversionWarning: A column-vector y was passed when a 1d array was expected. Please change the shape of y to (n_samples, ), for example using ravel().\n",
      "  y = column_or_1d(y, warn=True)\n"
     ]
    },
    {
     "name": "stdout",
     "output_type": "stream",
     "text": [
      "[CV 1/5] END .....C=1000, gamma=0.1, kernel=rbf;, score=0.439 total time=   3.4s\n"
     ]
    },
    {
     "name": "stderr",
     "output_type": "stream",
     "text": [
      "C:\\Users\\tiago\\anaconda3\\envs\\DAA\\lib\\site-packages\\sklearn\\utils\\validation.py:985: DataConversionWarning: A column-vector y was passed when a 1d array was expected. Please change the shape of y to (n_samples, ), for example using ravel().\n",
      "  y = column_or_1d(y, warn=True)\n"
     ]
    },
    {
     "name": "stdout",
     "output_type": "stream",
     "text": [
      "[CV 2/5] END .....C=1000, gamma=0.1, kernel=rbf;, score=0.428 total time=   3.4s\n"
     ]
    },
    {
     "name": "stderr",
     "output_type": "stream",
     "text": [
      "C:\\Users\\tiago\\anaconda3\\envs\\DAA\\lib\\site-packages\\sklearn\\utils\\validation.py:985: DataConversionWarning: A column-vector y was passed when a 1d array was expected. Please change the shape of y to (n_samples, ), for example using ravel().\n",
      "  y = column_or_1d(y, warn=True)\n"
     ]
    },
    {
     "name": "stdout",
     "output_type": "stream",
     "text": [
      "[CV 3/5] END .....C=1000, gamma=0.1, kernel=rbf;, score=0.445 total time=   3.4s\n"
     ]
    },
    {
     "name": "stderr",
     "output_type": "stream",
     "text": [
      "C:\\Users\\tiago\\anaconda3\\envs\\DAA\\lib\\site-packages\\sklearn\\utils\\validation.py:985: DataConversionWarning: A column-vector y was passed when a 1d array was expected. Please change the shape of y to (n_samples, ), for example using ravel().\n",
      "  y = column_or_1d(y, warn=True)\n"
     ]
    },
    {
     "name": "stdout",
     "output_type": "stream",
     "text": [
      "[CV 4/5] END .....C=1000, gamma=0.1, kernel=rbf;, score=0.441 total time=   3.4s\n"
     ]
    },
    {
     "name": "stderr",
     "output_type": "stream",
     "text": [
      "C:\\Users\\tiago\\anaconda3\\envs\\DAA\\lib\\site-packages\\sklearn\\utils\\validation.py:985: DataConversionWarning: A column-vector y was passed when a 1d array was expected. Please change the shape of y to (n_samples, ), for example using ravel().\n",
      "  y = column_or_1d(y, warn=True)\n"
     ]
    },
    {
     "name": "stdout",
     "output_type": "stream",
     "text": [
      "[CV 5/5] END .....C=1000, gamma=0.1, kernel=rbf;, score=0.458 total time=   3.4s\n"
     ]
    },
    {
     "name": "stderr",
     "output_type": "stream",
     "text": [
      "C:\\Users\\tiago\\anaconda3\\envs\\DAA\\lib\\site-packages\\sklearn\\utils\\validation.py:985: DataConversionWarning: A column-vector y was passed when a 1d array was expected. Please change the shape of y to (n_samples, ), for example using ravel().\n",
      "  y = column_or_1d(y, warn=True)\n"
     ]
    },
    {
     "name": "stdout",
     "output_type": "stream",
     "text": [
      "[CV 1/5] END ....C=1000, gamma=0.01, kernel=rbf;, score=0.713 total time=   1.8s\n"
     ]
    },
    {
     "name": "stderr",
     "output_type": "stream",
     "text": [
      "C:\\Users\\tiago\\anaconda3\\envs\\DAA\\lib\\site-packages\\sklearn\\utils\\validation.py:985: DataConversionWarning: A column-vector y was passed when a 1d array was expected. Please change the shape of y to (n_samples, ), for example using ravel().\n",
      "  y = column_or_1d(y, warn=True)\n"
     ]
    },
    {
     "name": "stdout",
     "output_type": "stream",
     "text": [
      "[CV 2/5] END ....C=1000, gamma=0.01, kernel=rbf;, score=0.712 total time=   1.8s\n"
     ]
    },
    {
     "name": "stderr",
     "output_type": "stream",
     "text": [
      "C:\\Users\\tiago\\anaconda3\\envs\\DAA\\lib\\site-packages\\sklearn\\utils\\validation.py:985: DataConversionWarning: A column-vector y was passed when a 1d array was expected. Please change the shape of y to (n_samples, ), for example using ravel().\n",
      "  y = column_or_1d(y, warn=True)\n"
     ]
    },
    {
     "name": "stdout",
     "output_type": "stream",
     "text": [
      "[CV 3/5] END ....C=1000, gamma=0.01, kernel=rbf;, score=0.699 total time=   2.0s\n"
     ]
    },
    {
     "name": "stderr",
     "output_type": "stream",
     "text": [
      "C:\\Users\\tiago\\anaconda3\\envs\\DAA\\lib\\site-packages\\sklearn\\utils\\validation.py:985: DataConversionWarning: A column-vector y was passed when a 1d array was expected. Please change the shape of y to (n_samples, ), for example using ravel().\n",
      "  y = column_or_1d(y, warn=True)\n"
     ]
    },
    {
     "name": "stdout",
     "output_type": "stream",
     "text": [
      "[CV 4/5] END ....C=1000, gamma=0.01, kernel=rbf;, score=0.719 total time=   1.9s\n"
     ]
    },
    {
     "name": "stderr",
     "output_type": "stream",
     "text": [
      "C:\\Users\\tiago\\anaconda3\\envs\\DAA\\lib\\site-packages\\sklearn\\utils\\validation.py:985: DataConversionWarning: A column-vector y was passed when a 1d array was expected. Please change the shape of y to (n_samples, ), for example using ravel().\n",
      "  y = column_or_1d(y, warn=True)\n"
     ]
    },
    {
     "name": "stdout",
     "output_type": "stream",
     "text": [
      "[CV 5/5] END ....C=1000, gamma=0.01, kernel=rbf;, score=0.728 total time=   1.8s\n"
     ]
    },
    {
     "name": "stderr",
     "output_type": "stream",
     "text": [
      "C:\\Users\\tiago\\anaconda3\\envs\\DAA\\lib\\site-packages\\sklearn\\utils\\validation.py:985: DataConversionWarning: A column-vector y was passed when a 1d array was expected. Please change the shape of y to (n_samples, ), for example using ravel().\n",
      "  y = column_or_1d(y, warn=True)\n"
     ]
    },
    {
     "name": "stdout",
     "output_type": "stream",
     "text": [
      "[CV 1/5] END ...C=1000, gamma=0.001, kernel=rbf;, score=0.735 total time=   3.3s\n"
     ]
    },
    {
     "name": "stderr",
     "output_type": "stream",
     "text": [
      "C:\\Users\\tiago\\anaconda3\\envs\\DAA\\lib\\site-packages\\sklearn\\utils\\validation.py:985: DataConversionWarning: A column-vector y was passed when a 1d array was expected. Please change the shape of y to (n_samples, ), for example using ravel().\n",
      "  y = column_or_1d(y, warn=True)\n"
     ]
    },
    {
     "name": "stdout",
     "output_type": "stream",
     "text": [
      "[CV 2/5] END ...C=1000, gamma=0.001, kernel=rbf;, score=0.736 total time=   3.7s\n"
     ]
    },
    {
     "name": "stderr",
     "output_type": "stream",
     "text": [
      "C:\\Users\\tiago\\anaconda3\\envs\\DAA\\lib\\site-packages\\sklearn\\utils\\validation.py:985: DataConversionWarning: A column-vector y was passed when a 1d array was expected. Please change the shape of y to (n_samples, ), for example using ravel().\n",
      "  y = column_or_1d(y, warn=True)\n"
     ]
    },
    {
     "name": "stdout",
     "output_type": "stream",
     "text": [
      "[CV 3/5] END ...C=1000, gamma=0.001, kernel=rbf;, score=0.750 total time=   3.8s\n"
     ]
    },
    {
     "name": "stderr",
     "output_type": "stream",
     "text": [
      "C:\\Users\\tiago\\anaconda3\\envs\\DAA\\lib\\site-packages\\sklearn\\utils\\validation.py:985: DataConversionWarning: A column-vector y was passed when a 1d array was expected. Please change the shape of y to (n_samples, ), for example using ravel().\n",
      "  y = column_or_1d(y, warn=True)\n"
     ]
    },
    {
     "name": "stdout",
     "output_type": "stream",
     "text": [
      "[CV 4/5] END ...C=1000, gamma=0.001, kernel=rbf;, score=0.756 total time=   4.3s\n"
     ]
    },
    {
     "name": "stderr",
     "output_type": "stream",
     "text": [
      "C:\\Users\\tiago\\anaconda3\\envs\\DAA\\lib\\site-packages\\sklearn\\utils\\validation.py:985: DataConversionWarning: A column-vector y was passed when a 1d array was expected. Please change the shape of y to (n_samples, ), for example using ravel().\n",
      "  y = column_or_1d(y, warn=True)\n"
     ]
    },
    {
     "name": "stdout",
     "output_type": "stream",
     "text": [
      "[CV 5/5] END ...C=1000, gamma=0.001, kernel=rbf;, score=0.756 total time=   3.7s\n"
     ]
    },
    {
     "name": "stderr",
     "output_type": "stream",
     "text": [
      "C:\\Users\\tiago\\anaconda3\\envs\\DAA\\lib\\site-packages\\sklearn\\utils\\validation.py:985: DataConversionWarning: A column-vector y was passed when a 1d array was expected. Please change the shape of y to (n_samples, ), for example using ravel().\n",
      "  y = column_or_1d(y, warn=True)\n"
     ]
    },
    {
     "name": "stdout",
     "output_type": "stream",
     "text": [
      "[CV 1/5] END ..C=1000, gamma=0.0001, kernel=rbf;, score=0.773 total time=   1.4s\n"
     ]
    },
    {
     "name": "stderr",
     "output_type": "stream",
     "text": [
      "C:\\Users\\tiago\\anaconda3\\envs\\DAA\\lib\\site-packages\\sklearn\\utils\\validation.py:985: DataConversionWarning: A column-vector y was passed when a 1d array was expected. Please change the shape of y to (n_samples, ), for example using ravel().\n",
      "  y = column_or_1d(y, warn=True)\n"
     ]
    },
    {
     "name": "stdout",
     "output_type": "stream",
     "text": [
      "[CV 2/5] END ..C=1000, gamma=0.0001, kernel=rbf;, score=0.788 total time=   1.7s\n"
     ]
    },
    {
     "name": "stderr",
     "output_type": "stream",
     "text": [
      "C:\\Users\\tiago\\anaconda3\\envs\\DAA\\lib\\site-packages\\sklearn\\utils\\validation.py:985: DataConversionWarning: A column-vector y was passed when a 1d array was expected. Please change the shape of y to (n_samples, ), for example using ravel().\n",
      "  y = column_or_1d(y, warn=True)\n"
     ]
    },
    {
     "name": "stdout",
     "output_type": "stream",
     "text": [
      "[CV 3/5] END ..C=1000, gamma=0.0001, kernel=rbf;, score=0.796 total time=   1.5s\n"
     ]
    },
    {
     "name": "stderr",
     "output_type": "stream",
     "text": [
      "C:\\Users\\tiago\\anaconda3\\envs\\DAA\\lib\\site-packages\\sklearn\\utils\\validation.py:985: DataConversionWarning: A column-vector y was passed when a 1d array was expected. Please change the shape of y to (n_samples, ), for example using ravel().\n",
      "  y = column_or_1d(y, warn=True)\n"
     ]
    },
    {
     "name": "stdout",
     "output_type": "stream",
     "text": [
      "[CV 4/5] END ..C=1000, gamma=0.0001, kernel=rbf;, score=0.775 total time=   1.4s\n"
     ]
    },
    {
     "name": "stderr",
     "output_type": "stream",
     "text": [
      "C:\\Users\\tiago\\anaconda3\\envs\\DAA\\lib\\site-packages\\sklearn\\utils\\validation.py:985: DataConversionWarning: A column-vector y was passed when a 1d array was expected. Please change the shape of y to (n_samples, ), for example using ravel().\n",
      "  y = column_or_1d(y, warn=True)\n"
     ]
    },
    {
     "name": "stdout",
     "output_type": "stream",
     "text": [
      "[CV 5/5] END ..C=1000, gamma=0.0001, kernel=rbf;, score=0.782 total time=   1.3s\n"
     ]
    },
    {
     "name": "stderr",
     "output_type": "stream",
     "text": [
      "C:\\Users\\tiago\\anaconda3\\envs\\DAA\\lib\\site-packages\\sklearn\\utils\\validation.py:985: DataConversionWarning: A column-vector y was passed when a 1d array was expected. Please change the shape of y to (n_samples, ), for example using ravel().\n",
      "  y = column_or_1d(y, warn=True)\n"
     ]
    },
    {
     "data": {
      "text/plain": [
       "array(['None', 'Low', 'None', ..., 'None', 'Very_High', 'Low'],\n",
       "      dtype=object)"
      ]
     },
     "execution_count": 14,
     "metadata": {},
     "output_type": "execute_result"
    }
   ],
   "source": [
    "#GridSearch\n",
    "param_grid = {'C': [0.1,1,10,100,1000], 'gamma': [1,0.1,0.01,0.001,0.0001],'kernel': ['rbf']}\n",
    "grid = GridSearchCV(SVC(random_state=2021),param_grid,refit=True,verbose=3)\n",
    "grid.fit(X,Y)\n",
    "\n",
    "predictions = grid.predict(X_test)\n",
    "predictions"
   ]
  },
  {
   "cell_type": "code",
   "execution_count": 17,
   "id": "be7f78c2",
   "metadata": {},
   "outputs": [],
   "source": [
    "submission = open(\"submissions/submission15.csv\", \"w\", newline='')\n",
    "writer = csv.writer(submission)\n",
    "writer.writerow(['RowId', 'Speed_Diff'])\n",
    "rowId = list(range(0, 1500))\n",
    "for i in range(1500):\n",
    "    writer.writerow([rowId[i]+1, predictions[i]])\n",
    "\n",
    "submission.close()"
   ]
  },
  {
   "cell_type": "code",
   "execution_count": 13,
   "id": "42034898",
   "metadata": {},
   "outputs": [
    {
     "data": {
      "text/html": [
       "<div>\n",
       "<style scoped>\n",
       "    .dataframe tbody tr th:only-of-type {\n",
       "        vertical-align: middle;\n",
       "    }\n",
       "\n",
       "    .dataframe tbody tr th {\n",
       "        vertical-align: top;\n",
       "    }\n",
       "\n",
       "    .dataframe thead th {\n",
       "        text-align: right;\n",
       "    }\n",
       "</style>\n",
       "<table border=\"1\" class=\"dataframe\">\n",
       "  <thead>\n",
       "    <tr style=\"text-align: right;\">\n",
       "      <th></th>\n",
       "      <th>AVERAGE_FREE_FLOW_SPEED</th>\n",
       "      <th>AVERAGE_TIME_DIFF</th>\n",
       "      <th>AVERAGE_FREE_FLOW_TIME</th>\n",
       "      <th>AVERAGE_TEMPERATURE</th>\n",
       "      <th>AVERAGE_ATMOSP_PRESSURE</th>\n",
       "      <th>AVERAGE_HUMIDITY</th>\n",
       "      <th>AVERAGE_WIND_SPEED</th>\n",
       "      <th>LUMINOSITY_n</th>\n",
       "      <th>AVERAGE_CLOUDINESS_n</th>\n",
       "      <th>AVERAGE_RAIN_n</th>\n",
       "      <th>Feriado_n</th>\n",
       "      <th>Dia_n</th>\n",
       "    </tr>\n",
       "  </thead>\n",
       "  <tbody>\n",
       "    <tr>\n",
       "      <th>0</th>\n",
       "      <td>41.5</td>\n",
       "      <td>11.5</td>\n",
       "      <td>71.4</td>\n",
       "      <td>15.0</td>\n",
       "      <td>1019.0</td>\n",
       "      <td>100.0</td>\n",
       "      <td>3.0</td>\n",
       "      <td>1</td>\n",
       "      <td>1</td>\n",
       "      <td>6</td>\n",
       "      <td>0</td>\n",
       "      <td>4</td>\n",
       "    </tr>\n",
       "    <tr>\n",
       "      <th>1</th>\n",
       "      <td>41.7</td>\n",
       "      <td>48.3</td>\n",
       "      <td>87.4</td>\n",
       "      <td>21.0</td>\n",
       "      <td>1021.0</td>\n",
       "      <td>53.0</td>\n",
       "      <td>5.0</td>\n",
       "      <td>1</td>\n",
       "      <td>1</td>\n",
       "      <td>6</td>\n",
       "      <td>0</td>\n",
       "      <td>0</td>\n",
       "    </tr>\n",
       "    <tr>\n",
       "      <th>2</th>\n",
       "      <td>38.6</td>\n",
       "      <td>38.4</td>\n",
       "      <td>85.2</td>\n",
       "      <td>26.0</td>\n",
       "      <td>1014.0</td>\n",
       "      <td>61.0</td>\n",
       "      <td>4.0</td>\n",
       "      <td>1</td>\n",
       "      <td>1</td>\n",
       "      <td>6</td>\n",
       "      <td>0</td>\n",
       "      <td>3</td>\n",
       "    </tr>\n",
       "    <tr>\n",
       "      <th>3</th>\n",
       "      <td>37.4</td>\n",
       "      <td>61.0</td>\n",
       "      <td>94.1</td>\n",
       "      <td>18.0</td>\n",
       "      <td>1025.0</td>\n",
       "      <td>48.0</td>\n",
       "      <td>4.0</td>\n",
       "      <td>1</td>\n",
       "      <td>1</td>\n",
       "      <td>6</td>\n",
       "      <td>0</td>\n",
       "      <td>5</td>\n",
       "    </tr>\n",
       "    <tr>\n",
       "      <th>4</th>\n",
       "      <td>41.6</td>\n",
       "      <td>50.4</td>\n",
       "      <td>77.0</td>\n",
       "      <td>15.0</td>\n",
       "      <td>1008.0</td>\n",
       "      <td>82.0</td>\n",
       "      <td>10.0</td>\n",
       "      <td>1</td>\n",
       "      <td>1</td>\n",
       "      <td>6</td>\n",
       "      <td>0</td>\n",
       "      <td>4</td>\n",
       "    </tr>\n",
       "    <tr>\n",
       "      <th>...</th>\n",
       "      <td>...</td>\n",
       "      <td>...</td>\n",
       "      <td>...</td>\n",
       "      <td>...</td>\n",
       "      <td>...</td>\n",
       "      <td>...</td>\n",
       "      <td>...</td>\n",
       "      <td>...</td>\n",
       "      <td>...</td>\n",
       "      <td>...</td>\n",
       "      <td>...</td>\n",
       "      <td>...</td>\n",
       "    </tr>\n",
       "    <tr>\n",
       "      <th>6807</th>\n",
       "      <td>41.2</td>\n",
       "      <td>3.7</td>\n",
       "      <td>86.9</td>\n",
       "      <td>9.0</td>\n",
       "      <td>1030.0</td>\n",
       "      <td>71.0</td>\n",
       "      <td>4.0</td>\n",
       "      <td>1</td>\n",
       "      <td>1</td>\n",
       "      <td>6</td>\n",
       "      <td>0</td>\n",
       "      <td>2</td>\n",
       "    </tr>\n",
       "    <tr>\n",
       "      <th>6808</th>\n",
       "      <td>38.9</td>\n",
       "      <td>51.9</td>\n",
       "      <td>76.9</td>\n",
       "      <td>17.0</td>\n",
       "      <td>1020.0</td>\n",
       "      <td>63.0</td>\n",
       "      <td>6.0</td>\n",
       "      <td>1</td>\n",
       "      <td>1</td>\n",
       "      <td>6</td>\n",
       "      <td>0</td>\n",
       "      <td>2</td>\n",
       "    </tr>\n",
       "    <tr>\n",
       "      <th>6809</th>\n",
       "      <td>39.6</td>\n",
       "      <td>0.0</td>\n",
       "      <td>89.1</td>\n",
       "      <td>15.0</td>\n",
       "      <td>1020.0</td>\n",
       "      <td>39.0</td>\n",
       "      <td>4.0</td>\n",
       "      <td>0</td>\n",
       "      <td>1</td>\n",
       "      <td>6</td>\n",
       "      <td>0</td>\n",
       "      <td>5</td>\n",
       "    </tr>\n",
       "    <tr>\n",
       "      <th>6810</th>\n",
       "      <td>41.6</td>\n",
       "      <td>0.0</td>\n",
       "      <td>85.5</td>\n",
       "      <td>8.0</td>\n",
       "      <td>1018.0</td>\n",
       "      <td>81.0</td>\n",
       "      <td>1.0</td>\n",
       "      <td>0</td>\n",
       "      <td>0</td>\n",
       "      <td>6</td>\n",
       "      <td>0</td>\n",
       "      <td>6</td>\n",
       "    </tr>\n",
       "    <tr>\n",
       "      <th>6811</th>\n",
       "      <td>41.7</td>\n",
       "      <td>32.9</td>\n",
       "      <td>78.1</td>\n",
       "      <td>15.0</td>\n",
       "      <td>1021.0</td>\n",
       "      <td>72.0</td>\n",
       "      <td>4.0</td>\n",
       "      <td>0</td>\n",
       "      <td>0</td>\n",
       "      <td>6</td>\n",
       "      <td>0</td>\n",
       "      <td>2</td>\n",
       "    </tr>\n",
       "  </tbody>\n",
       "</table>\n",
       "<p>6812 rows × 12 columns</p>\n",
       "</div>"
      ],
      "text/plain": [
       "      AVERAGE_FREE_FLOW_SPEED  AVERAGE_TIME_DIFF  AVERAGE_FREE_FLOW_TIME  \\\n",
       "0                        41.5               11.5                    71.4   \n",
       "1                        41.7               48.3                    87.4   \n",
       "2                        38.6               38.4                    85.2   \n",
       "3                        37.4               61.0                    94.1   \n",
       "4                        41.6               50.4                    77.0   \n",
       "...                       ...                ...                     ...   \n",
       "6807                     41.2                3.7                    86.9   \n",
       "6808                     38.9               51.9                    76.9   \n",
       "6809                     39.6                0.0                    89.1   \n",
       "6810                     41.6                0.0                    85.5   \n",
       "6811                     41.7               32.9                    78.1   \n",
       "\n",
       "      AVERAGE_TEMPERATURE  AVERAGE_ATMOSP_PRESSURE  AVERAGE_HUMIDITY  \\\n",
       "0                    15.0                   1019.0             100.0   \n",
       "1                    21.0                   1021.0              53.0   \n",
       "2                    26.0                   1014.0              61.0   \n",
       "3                    18.0                   1025.0              48.0   \n",
       "4                    15.0                   1008.0              82.0   \n",
       "...                   ...                      ...               ...   \n",
       "6807                  9.0                   1030.0              71.0   \n",
       "6808                 17.0                   1020.0              63.0   \n",
       "6809                 15.0                   1020.0              39.0   \n",
       "6810                  8.0                   1018.0              81.0   \n",
       "6811                 15.0                   1021.0              72.0   \n",
       "\n",
       "      AVERAGE_WIND_SPEED  LUMINOSITY_n  AVERAGE_CLOUDINESS_n  AVERAGE_RAIN_n  \\\n",
       "0                    3.0             1                     1               6   \n",
       "1                    5.0             1                     1               6   \n",
       "2                    4.0             1                     1               6   \n",
       "3                    4.0             1                     1               6   \n",
       "4                   10.0             1                     1               6   \n",
       "...                  ...           ...                   ...             ...   \n",
       "6807                 4.0             1                     1               6   \n",
       "6808                 6.0             1                     1               6   \n",
       "6809                 4.0             0                     1               6   \n",
       "6810                 1.0             0                     0               6   \n",
       "6811                 4.0             0                     0               6   \n",
       "\n",
       "      Feriado_n  Dia_n  \n",
       "0             0      4  \n",
       "1             0      0  \n",
       "2             0      3  \n",
       "3             0      5  \n",
       "4             0      4  \n",
       "...         ...    ...  \n",
       "6807          0      2  \n",
       "6808          0      2  \n",
       "6809          0      5  \n",
       "6810          0      6  \n",
       "6811          0      2  \n",
       "\n",
       "[6812 rows x 12 columns]"
      ]
     },
     "execution_count": 13,
     "metadata": {},
     "output_type": "execute_result"
    }
   ],
   "source": [
    "X"
   ]
  }
 ],
 "metadata": {
  "kernelspec": {
   "display_name": "Python 3 (ipykernel)",
   "language": "python",
   "name": "python3"
  },
  "language_info": {
   "codemirror_mode": {
    "name": "ipython",
    "version": 3
   },
   "file_extension": ".py",
   "mimetype": "text/x-python",
   "name": "python",
   "nbconvert_exporter": "python",
   "pygments_lexer": "ipython3",
   "version": "3.9.7"
  }
 },
 "nbformat": 4,
 "nbformat_minor": 5
}
