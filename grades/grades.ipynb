{
 "cells": [
  {
   "cell_type": "code",
   "execution_count": 24,
   "metadata": {},
   "outputs": [],
   "source": [
    "import csv\n",
    "import pandas as pd\n",
    "import numpy as np\n",
    "import matplotlib.pyplot as plt\n",
    "import seaborn as sns\n",
    "\n",
    "df = pd.read_csv('datasets/student-mat.csv')\n",
    "\n",
    "df.drop(['school','address','famsize','Mjob','Fjob','reason','guardian','nursery','health','traveltime','romantic','higher','schoolsup','famsup','famrel','Dalc','G1', 'G2'],axis=1,inplace=True)"
   ]
  },
  {
   "cell_type": "code",
   "execution_count": 21,
   "metadata": {},
   "outputs": [
    {
     "data": {
      "text/plain": [
       "Index(['school', 'sex', 'age', 'Pstatus', 'Medu', 'Fedu', 'studytime',\n",
       "       'failures', 'paid', 'activities', 'internet', 'freetime', 'goout',\n",
       "       'Walc', 'absences', 'G3'],\n",
       "      dtype='object')"
      ]
     },
     "execution_count": 21,
     "metadata": {},
     "output_type": "execute_result"
    }
   ],
   "source": [
    "df.columns"
   ]
  },
  {
   "cell_type": "code",
   "execution_count": 20,
   "metadata": {},
   "outputs": [
    {
     "data": {
      "text/plain": [
       "<bound method NDFrame.head of     school sex  age Pstatus  Medu  Fedu  studytime  failures paid activities  \\\n",
       "0       GP   F   18       A     4     4          2         0   no         no   \n",
       "1       GP   F   17       T     1     1          2         0   no         no   \n",
       "2       GP   F   15       T     1     1          2         3  yes         no   \n",
       "3       GP   F   15       T     4     2          3         0  yes        yes   \n",
       "4       GP   F   16       T     3     3          2         0  yes         no   \n",
       "..     ...  ..  ...     ...   ...   ...        ...       ...  ...        ...   \n",
       "390     MS   M   20       A     2     2          2         2  yes         no   \n",
       "391     MS   M   17       T     3     1          1         0   no         no   \n",
       "392     MS   M   21       T     1     1          1         3   no         no   \n",
       "393     MS   M   18       T     3     2          1         0   no         no   \n",
       "394     MS   M   19       T     1     1          1         0   no         no   \n",
       "\n",
       "    internet  freetime  goout  Walc  absences  G3  \n",
       "0         no         3      4     1         6   6  \n",
       "1        yes         3      3     1         4   6  \n",
       "2        yes         3      2     3        10  10  \n",
       "3        yes         2      2     1         2  15  \n",
       "4         no         3      2     2         4  10  \n",
       "..       ...       ...    ...   ...       ...  ..  \n",
       "390       no         5      4     5        11   9  \n",
       "391      yes         4      5     4         3  16  \n",
       "392       no         5      3     3         3   7  \n",
       "393      yes         4      1     4         0  10  \n",
       "394      yes         2      3     3         5   9  \n",
       "\n",
       "[395 rows x 16 columns]>"
      ]
     },
     "execution_count": 20,
     "metadata": {},
     "output_type": "execute_result"
    }
   ],
   "source": [
    "df.head"
   ]
  },
  {
   "cell_type": "code",
   "execution_count": 22,
   "metadata": {},
   "outputs": [
    {
     "data": {
      "text/plain": [
       "school        False\n",
       "sex           False\n",
       "age           False\n",
       "Pstatus       False\n",
       "Medu          False\n",
       "Fedu          False\n",
       "studytime     False\n",
       "failures      False\n",
       "paid          False\n",
       "activities    False\n",
       "internet      False\n",
       "freetime      False\n",
       "goout         False\n",
       "Walc          False\n",
       "absences      False\n",
       "G3            False\n",
       "dtype: bool"
      ]
     },
     "execution_count": 22,
     "metadata": {},
     "output_type": "execute_result"
    }
   ],
   "source": [
    "df.isna().any()"
   ]
  }
 ],
 "metadata": {
  "interpreter": {
   "hash": "aee8b7b246df8f9039afb4144a1f6fd8d2ca17a180786b69acc140d282b71a49"
  },
  "kernelspec": {
   "display_name": "Python 3.9.9 64-bit",
   "language": "python",
   "name": "python3"
  },
  "language_info": {
   "codemirror_mode": {
    "name": "ipython",
    "version": 3
   },
   "file_extension": ".py",
   "mimetype": "text/x-python",
   "name": "python",
   "nbconvert_exporter": "python",
   "pygments_lexer": "ipython3",
   "version": "3.9.9"
  },
  "orig_nbformat": 4
 },
 "nbformat": 4,
 "nbformat_minor": 2
}
